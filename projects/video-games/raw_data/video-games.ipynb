{
 "cells": [
  {
   "cell_type": "markdown",
   "id": "b62964ef",
   "metadata": {},
   "source": [
    "# Top selling video games in Japan\n",
    "\n",
    "Coming off from a **quite serious** [first project](https://pmagtulis.github.io/projects.html), I am choosing a rather fun (yet still \"editorially sound\") project about video games!\n",
    "\n",
    "**Background:** Famitsu Magazine in Japan releases every year a list of top 100 software games based on the number of units sold. The entire list can be found on Famitsu [website](https://www.famitsu.com/news/202202/06250169.html)-- but it's in Japanese!\n",
    "\n",
    "So for the purposes of this project, I decided just to google stories that would contain the list in English and collate them.\n",
    "\n",
    "**Purpose:** My initial vision for this project is just to collate a minimum of 5 years worth of Famitsu rankings into a single dataframe for analysis. However, due to time constraints and some problems gathering data, only years 2019, 2020 and 2021-- covering pre-pandemic and pandemic times-- were included. Some questions I am thinking of getting answers to are:\n",
    "\n",
    "* How has each game performed through the years?\n",
    "* Which is the top performing console based on number of games sold?\n",
    "* How has the pandemic affected game sales?\n",
    "\n",
    "**Methods:** Since we are not collating the data from a single website, we would have to do a bunch of requests for each site we found. Ideally, one website per one year worth of data.\n",
    "\n",
    "Once we have all of those, we create a data frame for each and then **concat** everything. We process and analyze and visualize data afterwards.\n",
    "\n",
    "**Tools:** bs4, pandas, Excel, regex, Adobe Illustrator"
   ]
  },
  {
   "cell_type": "markdown",
   "id": "ed759d1b",
   "metadata": {},
   "source": [
    "# Do all imports"
   ]
  },
  {
   "cell_type": "code",
   "execution_count": 1,
   "id": "19bf430f",
   "metadata": {},
   "outputs": [
    {
     "name": "stderr",
     "output_type": "stream",
     "text": [
      "/Users/prinzmagtulis/.pyenv/versions/3.10.0/lib/python3.10/site-packages/pandas/compat/__init__.py:124: UserWarning: Could not import the lzma module. Your installed Python is incomplete. Attempting to use lzma compression will result in a RuntimeError.\n",
      "  warnings.warn(msg)\n"
     ]
    }
   ],
   "source": [
    "import requests\n",
    "from bs4 import BeautifulSoup\n",
    "import pandas as pd\n",
    "from requests import get\n",
    "import numpy as np\n",
    "import re"
   ]
  },
  {
   "cell_type": "markdown",
   "id": "20c170ce",
   "metadata": {},
   "source": [
    "# Scraping with bs4\n",
    "\n",
    "Now this is a start of a long process because we would be dealing with different web pages, but let me simplify it in bullet form:\n",
    "\n",
    "* request and parse each page\n",
    "* get the list of games \n",
    "* make a single data frame for each (ideally, one df per each year)\n",
    "* clean the data"
   ]
  },
  {
   "cell_type": "markdown",
   "id": "f1544f48",
   "metadata": {},
   "source": [
    "## Web pages\n",
    "\n",
    "Below are the list of web pages we scraped and culled information from to get the annual list. As mentioned, the Famitsu list is on Japanese, but is commonly reported by other outlets (i.e. gaming sites, forums, etc.) in English every time it is released.\n",
    "\n",
    "* 2021 - https://www.nintendolife.com/news/2022/02/japans-top-100-best-selling-video-games-of-2021-according-to-famitsu\n",
    "\n",
    "* 2020 - https://gamerant.com/japan-best-selling-games-2020-famitsu/\n",
    "\n",
    "* 2019 - https://twinfinite.net/2020/01/top-100-best-selling-games-2019-japan/"
   ]
  },
  {
   "cell_type": "markdown",
   "id": "151bfa11",
   "metadata": {},
   "source": [
    "## 2021"
   ]
  },
  {
   "cell_type": "code",
   "execution_count": 2,
   "id": "e5bbad31",
   "metadata": {},
   "outputs": [],
   "source": [
    "raw_html1 = requests.get(\"https://www.nintendolife.com/news/2022/02/japans-top-100-best-selling-video-games-of-2021-according-to-famitsu\").content\n",
    "doc1 = BeautifulSoup(raw_html1, \"html.parser\")\n",
    "#print(doc1.prettify())"
   ]
  },
  {
   "cell_type": "code",
   "execution_count": 3,
   "id": "66f4d9a3",
   "metadata": {},
   "outputs": [],
   "source": [
    "container= doc1.find('div', {\"class\":'body body-text article-text'})\n",
    "dataset= container.find_all('p')[3]"
   ]
  },
  {
   "cell_type": "markdown",
   "id": "0c159153",
   "metadata": {},
   "source": [
    "## Convert to data frame\n",
    "\n",
    "Using pandas, of course."
   ]
  },
  {
   "cell_type": "code",
   "execution_count": 4,
   "id": "f203a7ae",
   "metadata": {},
   "outputs": [
    {
     "data": {
      "text/html": [
       "<div>\n",
       "<style scoped>\n",
       "    .dataframe tbody tr th:only-of-type {\n",
       "        vertical-align: middle;\n",
       "    }\n",
       "\n",
       "    .dataframe tbody tr th {\n",
       "        vertical-align: top;\n",
       "    }\n",
       "\n",
       "    .dataframe thead th {\n",
       "        text-align: right;\n",
       "    }\n",
       "</style>\n",
       "<table border=\"1\" class=\"dataframe\">\n",
       "  <thead>\n",
       "    <tr style=\"text-align: right;\">\n",
       "      <th></th>\n",
       "      <th>0</th>\n",
       "    </tr>\n",
       "  </thead>\n",
       "  <tbody>\n",
       "    <tr>\n",
       "      <th>0</th>\n",
       "      <td>1. [NSW] Monster Hunter Rise – 2,350,693 / NEW</td>\n",
       "    </tr>\n",
       "    <tr>\n",
       "      <th>1</th>\n",
       "      <td>[]</td>\n",
       "    </tr>\n",
       "    <tr>\n",
       "      <th>2</th>\n",
       "      <td>\\n2. [NSW] Pokemon Brilliant Diamond / Shining...</td>\n",
       "    </tr>\n",
       "    <tr>\n",
       "      <th>3</th>\n",
       "      <td>[]</td>\n",
       "    </tr>\n",
       "    <tr>\n",
       "      <th>4</th>\n",
       "      <td>\\n3. [NSW] Momotaro Dentetsu: Showa, Heisei, R...</td>\n",
       "    </tr>\n",
       "    <tr>\n",
       "      <th>...</th>\n",
       "      <td>...</td>\n",
       "    </tr>\n",
       "    <tr>\n",
       "      <th>194</th>\n",
       "      <td>\\n98. [NSW] Moshikashite? Obake no Shatekiya f...</td>\n",
       "    </tr>\n",
       "    <tr>\n",
       "      <th>195</th>\n",
       "      <td>[]</td>\n",
       "    </tr>\n",
       "    <tr>\n",
       "      <th>196</th>\n",
       "      <td>\\n99. [PS5] Marvel’s Spider-Man: Miles Morales...</td>\n",
       "    </tr>\n",
       "    <tr>\n",
       "      <th>197</th>\n",
       "      <td>[]</td>\n",
       "    </tr>\n",
       "    <tr>\n",
       "      <th>198</th>\n",
       "      <td>\\n100. [PS5] Final Fantasy VII Remake Intergra...</td>\n",
       "    </tr>\n",
       "  </tbody>\n",
       "</table>\n",
       "<p>199 rows × 1 columns</p>\n",
       "</div>"
      ],
      "text/plain": [
       "                                                     0\n",
       "0       1. [NSW] Monster Hunter Rise – 2,350,693 / NEW\n",
       "1                                                   []\n",
       "2    \\n2. [NSW] Pokemon Brilliant Diamond / Shining...\n",
       "3                                                   []\n",
       "4    \\n3. [NSW] Momotaro Dentetsu: Showa, Heisei, R...\n",
       "..                                                 ...\n",
       "194  \\n98. [NSW] Moshikashite? Obake no Shatekiya f...\n",
       "195                                                 []\n",
       "196  \\n99. [PS5] Marvel’s Spider-Man: Miles Morales...\n",
       "197                                                 []\n",
       "198  \\n100. [PS5] Final Fantasy VII Remake Intergra...\n",
       "\n",
       "[199 rows x 1 columns]"
      ]
     },
     "execution_count": 4,
     "metadata": {},
     "output_type": "execute_result"
    }
   ],
   "source": [
    "df_2021 = pd.DataFrame(dataset)\n",
    "df_2021"
   ]
  },
  {
   "cell_type": "markdown",
   "id": "37d9c116",
   "metadata": {},
   "source": [
    "The output is really messy so the next step is to clean it up. "
   ]
  },
  {
   "cell_type": "markdown",
   "id": "baf2e161",
   "metadata": {},
   "source": [
    "## Cleaning the data\n",
    "\n",
    "### Remove the white spaces and NaNs\n",
    "\n",
    "This will entail **a lot of regex**.\n",
    "\n",
    "The first task is to remove those seemingly empty rows. This will be followed by removing the white spaces and NaNs. \n",
    "\n",
    "The data is not usually this messy as you can strip the text through bs4. But we chose not to do that since we are preserving the numerical order structure of the text."
   ]
  },
  {
   "cell_type": "code",
   "execution_count": 5,
   "id": "3d36f89b",
   "metadata": {},
   "outputs": [],
   "source": [
    "df_2021 = df_2021.iloc[::2]\n",
    "df_2021 = df_2021.replace(r'\\n',' ', regex=True) \n",
    "df_2021 = df_2021.replace(r'\\s\\s',' ', regex=True) \n",
    "df_2021= df_2021.replace(r'^[/d/d]', regex=True)"
   ]
  },
  {
   "cell_type": "markdown",
   "id": "bb392f3e",
   "metadata": {},
   "source": [
    "### Rename the column to 'games'\n",
    "\n",
    "Until now, we were working with a column with an awful name of '0'."
   ]
  },
  {
   "cell_type": "code",
   "execution_count": 6,
   "id": "972ac052",
   "metadata": {},
   "outputs": [],
   "source": [
    "df_2021.columns = ['games']"
   ]
  },
  {
   "cell_type": "markdown",
   "id": "08e97a61",
   "metadata": {},
   "source": [
    "### Change the type to string\n",
    "\n",
    "This is kind of weird to me since a **df1.dtypes** would reveal that the entries are in fact **object** and therefore a string. But using **.strip()** on it doesn't work without us converting the data to string so here we are."
   ]
  },
  {
   "cell_type": "code",
   "execution_count": 7,
   "id": "7474a0df",
   "metadata": {},
   "outputs": [],
   "source": [
    "df_2021.games = df_2021.games.astype(str)"
   ]
  },
  {
   "cell_type": "code",
   "execution_count": 8,
   "id": "9b0ebbd2",
   "metadata": {},
   "outputs": [
    {
     "data": {
      "text/plain": [
       "games    object\n",
       "dtype: object"
      ]
     },
     "execution_count": 8,
     "metadata": {},
     "output_type": "execute_result"
    }
   ],
   "source": [
    "df_2021.dtypes"
   ]
  },
  {
   "cell_type": "markdown",
   "id": "e0157c3f",
   "metadata": {},
   "source": [
    "### Stripping and making new columns\n",
    "\n",
    "We need to separate the information into new columns and clean up each entries. This should be the final step. And then we request a new webpage and repeat the process until we get the amount of data we need."
   ]
  },
  {
   "cell_type": "code",
   "execution_count": 9,
   "id": "168a29ba",
   "metadata": {},
   "outputs": [],
   "source": [
    "df_2021.games.str.strip()                                        #strips out all white spaces\n",
    "df_2021['console'] = df_2021.games.str.split(expand=True)[1]         #splits the contents and using a part of it in new cols\n",
    "df_2021['units_sold'] = df_2021.games.str.split(expand=True, pat=\"–\")[1]"
   ]
  },
  {
   "cell_type": "code",
   "execution_count": 10,
   "id": "68dee913",
   "metadata": {},
   "outputs": [],
   "source": [
    "df_2021.reset_index(inplace=True)             \n",
    "df_2021 = df_2021.drop('index', axis=1)                                #reseting the index"
   ]
  },
  {
   "cell_type": "markdown",
   "id": "f1eb008a",
   "metadata": {},
   "source": [
    "### Cleaning your columns of duplicate information\n",
    "\n",
    "While we stripped the information out of a single column earlier, that original column still contains some of the information we took out of it since stripping does not **transfer** but merely **copy** contents to a new column.\n",
    "\n",
    "This section cleans everything, including our new columns"
   ]
  },
  {
   "cell_type": "code",
   "execution_count": 11,
   "id": "392aa4b3",
   "metadata": {},
   "outputs": [],
   "source": [
    "df_2021.console = df_2021.console.str.replace(\"[\", \"\", regex=False)\n",
    "df_2021.console = df_2021.console.str.replace(\"]\", \"\", regex=False)\n",
    "df_2021.console = df_2021.console.str.replace('NS4', 'NSW', regex=False)     #one entry was mistyped as \"NS4\" instead of \"NSW\"\n",
    "\n",
    "#These two clean up the console column of the brackets"
   ]
  },
  {
   "cell_type": "code",
   "execution_count": 12,
   "id": "f1916da3",
   "metadata": {},
   "outputs": [],
   "source": [
    "df_2021.games = df_2021.games.str.replace(r'[–]\\s.+$', \"\", regex=True)\n",
    "df_2021.games = df_2021.games.str.replace(r'^\\s?\\d+[.]\\s\\s*.{5}\\s', \"\", regex=True)\n",
    "\n",
    "#This cleans the games column to get only the game name and remove everything else after"
   ]
  },
  {
   "cell_type": "code",
   "execution_count": 13,
   "id": "0a4dc2f5",
   "metadata": {},
   "outputs": [],
   "source": [
    "df_2021.units_sold = df_2021.units_sold.str.replace(r'[/]\\s.+$', \"\", regex=True)\n",
    "df_2021.units_sold = df_2021.units_sold.str.replace(',', \"\", regex=False)\n",
    "\n",
    "#This cleans the units_sold column and then we convert this to float for analysis later"
   ]
  },
  {
   "cell_type": "markdown",
   "id": "83211371",
   "metadata": {},
   "source": [
    "**IMPORTANT:** Upon checking our regex function for **units_sold** column did not fit two entries because of their long names. We then run a .str.replace for them to put back the figures we lost. \n",
    "\n",
    "This is obviously not ideal, but since I'm bad at regex, this will do. :P"
   ]
  },
  {
   "cell_type": "code",
   "execution_count": 14,
   "id": "09c12c9c",
   "metadata": {},
   "outputs": [],
   "source": [
    "df_2021.units_sold = df_2021.units_sold.str.replace('Owaranai Nanokakan no Tabi', \"199646\", regex=False)\n",
    "df_2021.units_sold = df_2021.units_sold.str.replace('The Hinokami Chronicles', \"150056\", regex=False)\n",
    "\n",
    "df_2021.units_sold = df_2021.units_sold.astype(float)\n",
    "#Converting the numbers to float format"
   ]
  },
  {
   "cell_type": "code",
   "execution_count": 15,
   "id": "d4d6575a",
   "metadata": {},
   "outputs": [
    {
     "data": {
      "text/html": [
       "<div>\n",
       "<style scoped>\n",
       "    .dataframe tbody tr th:only-of-type {\n",
       "        vertical-align: middle;\n",
       "    }\n",
       "\n",
       "    .dataframe tbody tr th {\n",
       "        vertical-align: top;\n",
       "    }\n",
       "\n",
       "    .dataframe thead th {\n",
       "        text-align: right;\n",
       "    }\n",
       "</style>\n",
       "<table border=\"1\" class=\"dataframe\">\n",
       "  <thead>\n",
       "    <tr style=\"text-align: right;\">\n",
       "      <th></th>\n",
       "      <th>games</th>\n",
       "      <th>console</th>\n",
       "      <th>units_sold</th>\n",
       "      <th>year</th>\n",
       "    </tr>\n",
       "  </thead>\n",
       "  <tbody>\n",
       "    <tr>\n",
       "      <th>0</th>\n",
       "      <td>Monster Hunter Rise</td>\n",
       "      <td>NSW</td>\n",
       "      <td>2350693.0</td>\n",
       "      <td>2021</td>\n",
       "    </tr>\n",
       "    <tr>\n",
       "      <th>1</th>\n",
       "      <td>Pokemon Brilliant Diamond / Shining Pearl</td>\n",
       "      <td>NSW</td>\n",
       "      <td>2313115.0</td>\n",
       "      <td>2021</td>\n",
       "    </tr>\n",
       "    <tr>\n",
       "      <th>2</th>\n",
       "      <td>Momotaro Dentetsu: Showa, Heisei, Reiwa mo Tei...</td>\n",
       "      <td>NSW</td>\n",
       "      <td>1266477.0</td>\n",
       "      <td>2021</td>\n",
       "    </tr>\n",
       "    <tr>\n",
       "      <th>3</th>\n",
       "      <td>Super Mario 3D World + Bowser’s Fury</td>\n",
       "      <td>NSW</td>\n",
       "      <td>971418.0</td>\n",
       "      <td>2021</td>\n",
       "    </tr>\n",
       "    <tr>\n",
       "      <th>4</th>\n",
       "      <td>Ring Fit Adventure</td>\n",
       "      <td>NSW</td>\n",
       "      <td>904685.0</td>\n",
       "      <td>2021</td>\n",
       "    </tr>\n",
       "    <tr>\n",
       "      <th>...</th>\n",
       "      <td>...</td>\n",
       "      <td>...</td>\n",
       "      <td>...</td>\n",
       "      <td>...</td>\n",
       "    </tr>\n",
       "    <tr>\n",
       "      <th>95</th>\n",
       "      <td>Minecraft Starter Collection</td>\n",
       "      <td>PS4</td>\n",
       "      <td>34389.0</td>\n",
       "      <td>2021</td>\n",
       "    </tr>\n",
       "    <tr>\n",
       "      <th>96</th>\n",
       "      <td>Danganronpa Decadence</td>\n",
       "      <td>NSW</td>\n",
       "      <td>34229.0</td>\n",
       "      <td>2021</td>\n",
       "    </tr>\n",
       "    <tr>\n",
       "      <th>97</th>\n",
       "      <td>Moshikashite? Obake no Shatekiya for Nintendo ...</td>\n",
       "      <td>NSW</td>\n",
       "      <td>34089.0</td>\n",
       "      <td>2021</td>\n",
       "    </tr>\n",
       "    <tr>\n",
       "      <th>98</th>\n",
       "      <td>Marvel’s Spider-Man: Miles Morales</td>\n",
       "      <td>PS5</td>\n",
       "      <td>34016.0</td>\n",
       "      <td>2021</td>\n",
       "    </tr>\n",
       "    <tr>\n",
       "      <th>99</th>\n",
       "      <td>Final Fantasy VII Remake Intergrade</td>\n",
       "      <td>PS5</td>\n",
       "      <td>34012.0</td>\n",
       "      <td>2021</td>\n",
       "    </tr>\n",
       "  </tbody>\n",
       "</table>\n",
       "<p>100 rows × 4 columns</p>\n",
       "</div>"
      ],
      "text/plain": [
       "                                                games console  units_sold  \\\n",
       "0                                Monster Hunter Rise      NSW   2350693.0   \n",
       "1          Pokemon Brilliant Diamond / Shining Pearl      NSW   2313115.0   \n",
       "2   Momotaro Dentetsu: Showa, Heisei, Reiwa mo Tei...     NSW   1266477.0   \n",
       "3               Super Mario 3D World + Bowser’s Fury      NSW    971418.0   \n",
       "4                                 Ring Fit Adventure      NSW    904685.0   \n",
       "..                                                ...     ...         ...   \n",
       "95                      Minecraft Starter Collection      PS4     34389.0   \n",
       "96                             Danganronpa Decadence      NSW     34229.0   \n",
       "97  Moshikashite? Obake no Shatekiya for Nintendo ...     NSW     34089.0   \n",
       "98                Marvel’s Spider-Man: Miles Morales      PS5     34016.0   \n",
       "99               Final Fantasy VII Remake Intergrade      PS5     34012.0   \n",
       "\n",
       "    year  \n",
       "0   2021  \n",
       "1   2021  \n",
       "2   2021  \n",
       "3   2021  \n",
       "4   2021  \n",
       "..   ...  \n",
       "95  2021  \n",
       "96  2021  \n",
       "97  2021  \n",
       "98  2021  \n",
       "99  2021  \n",
       "\n",
       "[100 rows x 4 columns]"
      ]
     },
     "execution_count": 15,
     "metadata": {},
     "output_type": "execute_result"
    }
   ],
   "source": [
    "df_2021['year'] = '2021'\n",
    "df_2021"
   ]
  },
  {
   "cell_type": "markdown",
   "id": "ee4e07a8",
   "metadata": {},
   "source": [
    "This is just the **first** dataset we need. Below we scrape and clean the 2019 list, from a different website, following the same method."
   ]
  },
  {
   "cell_type": "markdown",
   "id": "b4c0c824",
   "metadata": {},
   "source": [
    "## 2020"
   ]
  },
  {
   "cell_type": "code",
   "execution_count": 16,
   "id": "f4830de1",
   "metadata": {},
   "outputs": [],
   "source": [
    "raw_html3 = requests.get('https://gamerant.com/japan-best-selling-games-2020-famitsu/', headers={\n",
    "\"User-Agent\" : \"Mozilla/5.0 (X11; Linux x86_64) AppleWebKit/537.36 (KHTML, like Gecko) Chrome/51.0.2704.103 Safari/537.36\"\n",
    "}).content\n",
    "doc3 = BeautifulSoup(raw_html3, \"html.parser\")\n",
    "#print(doc3.prettify())"
   ]
  },
  {
   "cell_type": "code",
   "execution_count": 17,
   "id": "91face6c",
   "metadata": {},
   "outputs": [],
   "source": [
    "container2= doc3.find('section', {\"id\": \"article-body\"})\n",
    "row= container2.find('ul')\n",
    "dataset3= row.find_all('li')\n",
    "#dataset3"
   ]
  },
  {
   "cell_type": "code",
   "execution_count": 18,
   "id": "5c60755e",
   "metadata": {},
   "outputs": [
    {
     "data": {
      "text/html": [
       "<div>\n",
       "<style scoped>\n",
       "    .dataframe tbody tr th:only-of-type {\n",
       "        vertical-align: middle;\n",
       "    }\n",
       "\n",
       "    .dataframe tbody tr th {\n",
       "        vertical-align: top;\n",
       "    }\n",
       "\n",
       "    .dataframe thead th {\n",
       "        text-align: right;\n",
       "    }\n",
       "</style>\n",
       "<table border=\"1\" class=\"dataframe\">\n",
       "  <thead>\n",
       "    <tr style=\"text-align: right;\">\n",
       "      <th></th>\n",
       "      <th>0</th>\n",
       "    </tr>\n",
       "  </thead>\n",
       "  <tbody>\n",
       "    <tr>\n",
       "      <th>0</th>\n",
       "      <td>1. [NSW] Animal Crossing: New Horizons – 6,37...</td>\n",
       "    </tr>\n",
       "    <tr>\n",
       "      <th>1</th>\n",
       "      <td>2. [NSW] Ring Fit Adventure – 1,591,366 / 2,0...</td>\n",
       "    </tr>\n",
       "    <tr>\n",
       "      <th>2</th>\n",
       "      <td>3. [NSW] Momotaro Dentetsu: Showa, Heisei, Re...</td>\n",
       "    </tr>\n",
       "    <tr>\n",
       "      <th>3</th>\n",
       "      <td>4. [PS4] Final Fantasy VII Remake – 949,379 /...</td>\n",
       "    </tr>\n",
       "    <tr>\n",
       "      <th>4</th>\n",
       "      <td>5. [NSW] Pokemon Sword/Shield – 892,456 / 3,8...</td>\n",
       "    </tr>\n",
       "    <tr>\n",
       "      <th>...</th>\n",
       "      <td>...</td>\n",
       "    </tr>\n",
       "    <tr>\n",
       "      <th>95</th>\n",
       "      <td>96. [PS4] Final Fantasy Crystal Chronicles Re...</td>\n",
       "    </tr>\n",
       "    <tr>\n",
       "      <th>96</th>\n",
       "      <td>97. [NSW] Kotoba no Puzzle: Moji Pittan Encor...</td>\n",
       "    </tr>\n",
       "    <tr>\n",
       "      <th>97</th>\n",
       "      <td>98. [NSW] Yoshi’s Crafted World – 37,458 / 22...</td>\n",
       "    </tr>\n",
       "    <tr>\n",
       "      <th>98</th>\n",
       "      <td>99. [PS4] NieR Automata Game of the YoRHa Edi...</td>\n",
       "    </tr>\n",
       "    <tr>\n",
       "      <th>99</th>\n",
       "      <td>100. [PS4] Gran Turismo Sport (PlayStation Hi...</td>\n",
       "    </tr>\n",
       "  </tbody>\n",
       "</table>\n",
       "<p>100 rows × 1 columns</p>\n",
       "</div>"
      ],
      "text/plain": [
       "                                                    0\n",
       "0    1. [NSW] Animal Crossing: New Horizons – 6,37...\n",
       "1    2. [NSW] Ring Fit Adventure – 1,591,366 / 2,0...\n",
       "2    3. [NSW] Momotaro Dentetsu: Showa, Heisei, Re...\n",
       "3    4. [PS4] Final Fantasy VII Remake – 949,379 /...\n",
       "4    5. [NSW] Pokemon Sword/Shield – 892,456 / 3,8...\n",
       "..                                                ...\n",
       "95   96. [PS4] Final Fantasy Crystal Chronicles Re...\n",
       "96   97. [NSW] Kotoba no Puzzle: Moji Pittan Encor...\n",
       "97   98. [NSW] Yoshi’s Crafted World – 37,458 / 22...\n",
       "98   99. [PS4] NieR Automata Game of the YoRHa Edi...\n",
       "99   100. [PS4] Gran Turismo Sport (PlayStation Hi...\n",
       "\n",
       "[100 rows x 1 columns]"
      ]
     },
     "execution_count": 18,
     "metadata": {},
     "output_type": "execute_result"
    }
   ],
   "source": [
    "df_2020 = pd.DataFrame(dataset3)\n",
    "df_2020"
   ]
  },
  {
   "cell_type": "markdown",
   "id": "80e3fbcf",
   "metadata": {},
   "source": [
    "### Putting up a new column, stripping all white spaces, and 'games' column of separated info"
   ]
  },
  {
   "cell_type": "code",
   "execution_count": 19,
   "id": "34b7e94f",
   "metadata": {},
   "outputs": [
    {
     "data": {
      "text/html": [
       "<div>\n",
       "<style scoped>\n",
       "    .dataframe tbody tr th:only-of-type {\n",
       "        vertical-align: middle;\n",
       "    }\n",
       "\n",
       "    .dataframe tbody tr th {\n",
       "        vertical-align: top;\n",
       "    }\n",
       "\n",
       "    .dataframe thead th {\n",
       "        text-align: right;\n",
       "    }\n",
       "</style>\n",
       "<table border=\"1\" class=\"dataframe\">\n",
       "  <thead>\n",
       "    <tr style=\"text-align: right;\">\n",
       "      <th></th>\n",
       "      <th>games</th>\n",
       "    </tr>\n",
       "  </thead>\n",
       "  <tbody>\n",
       "    <tr>\n",
       "      <th>0</th>\n",
       "      <td>1. [NSW] Animal Crossing: New Horizons – 6,37...</td>\n",
       "    </tr>\n",
       "    <tr>\n",
       "      <th>1</th>\n",
       "      <td>2. [NSW] Ring Fit Adventure – 1,591,366 / 2,0...</td>\n",
       "    </tr>\n",
       "    <tr>\n",
       "      <th>2</th>\n",
       "      <td>3. [NSW] Momotaro Dentetsu: Showa, Heisei, Re...</td>\n",
       "    </tr>\n",
       "    <tr>\n",
       "      <th>3</th>\n",
       "      <td>4. [PS4] Final Fantasy VII Remake – 949,379 /...</td>\n",
       "    </tr>\n",
       "    <tr>\n",
       "      <th>4</th>\n",
       "      <td>5. [NSW] Pokemon Sword/Shield – 892,456 / 3,8...</td>\n",
       "    </tr>\n",
       "    <tr>\n",
       "      <th>...</th>\n",
       "      <td>...</td>\n",
       "    </tr>\n",
       "    <tr>\n",
       "      <th>95</th>\n",
       "      <td>96. [PS4] Final Fantasy Crystal Chronicles Re...</td>\n",
       "    </tr>\n",
       "    <tr>\n",
       "      <th>96</th>\n",
       "      <td>97. [NSW] Kotoba no Puzzle: Moji Pittan Encor...</td>\n",
       "    </tr>\n",
       "    <tr>\n",
       "      <th>97</th>\n",
       "      <td>98. [NSW] Yoshi’s Crafted World – 37,458 / 22...</td>\n",
       "    </tr>\n",
       "    <tr>\n",
       "      <th>98</th>\n",
       "      <td>99. [PS4] NieR Automata Game of the YoRHa Edi...</td>\n",
       "    </tr>\n",
       "    <tr>\n",
       "      <th>99</th>\n",
       "      <td>100. [PS4] Gran Turismo Sport (PlayStation Hi...</td>\n",
       "    </tr>\n",
       "  </tbody>\n",
       "</table>\n",
       "<p>100 rows × 1 columns</p>\n",
       "</div>"
      ],
      "text/plain": [
       "                                                games\n",
       "0    1. [NSW] Animal Crossing: New Horizons – 6,37...\n",
       "1    2. [NSW] Ring Fit Adventure – 1,591,366 / 2,0...\n",
       "2    3. [NSW] Momotaro Dentetsu: Showa, Heisei, Re...\n",
       "3    4. [PS4] Final Fantasy VII Remake – 949,379 /...\n",
       "4    5. [NSW] Pokemon Sword/Shield – 892,456 / 3,8...\n",
       "..                                                ...\n",
       "95   96. [PS4] Final Fantasy Crystal Chronicles Re...\n",
       "96   97. [NSW] Kotoba no Puzzle: Moji Pittan Encor...\n",
       "97   98. [NSW] Yoshi’s Crafted World – 37,458 / 22...\n",
       "98   99. [PS4] NieR Automata Game of the YoRHa Edi...\n",
       "99   100. [PS4] Gran Turismo Sport (PlayStation Hi...\n",
       "\n",
       "[100 rows x 1 columns]"
      ]
     },
     "execution_count": 19,
     "metadata": {},
     "output_type": "execute_result"
    }
   ],
   "source": [
    "df_2020.columns = ['games']\n",
    "df_2020.games = df_2020.games.astype(str)\n",
    "df_2020"
   ]
  },
  {
   "cell_type": "code",
   "execution_count": 20,
   "id": "d1ef7868",
   "metadata": {},
   "outputs": [],
   "source": [
    "df_2020.games.str.strip()                                                 #strips out all white spaces\n",
    "df_2020['console'] = df_2020.games.str.split(expand=True)[1]               #splits the contents and using a part of it in new cols\n",
    "df_2020['units_sold'] = df_2020.games.str.split(expand=True, pat=\"–\")[1]"
   ]
  },
  {
   "cell_type": "code",
   "execution_count": 21,
   "id": "6651c880",
   "metadata": {},
   "outputs": [
    {
     "data": {
      "text/html": [
       "<div>\n",
       "<style scoped>\n",
       "    .dataframe tbody tr th:only-of-type {\n",
       "        vertical-align: middle;\n",
       "    }\n",
       "\n",
       "    .dataframe tbody tr th {\n",
       "        vertical-align: top;\n",
       "    }\n",
       "\n",
       "    .dataframe thead th {\n",
       "        text-align: right;\n",
       "    }\n",
       "</style>\n",
       "<table border=\"1\" class=\"dataframe\">\n",
       "  <thead>\n",
       "    <tr style=\"text-align: right;\">\n",
       "      <th></th>\n",
       "      <th>games</th>\n",
       "      <th>console</th>\n",
       "      <th>units_sold</th>\n",
       "    </tr>\n",
       "  </thead>\n",
       "  <tbody>\n",
       "    <tr>\n",
       "      <th>0</th>\n",
       "      <td>1. [NSW] Animal Crossing: New Horizons – 6,37...</td>\n",
       "      <td>[NSW]</td>\n",
       "      <td>6,378,103 / NEW</td>\n",
       "    </tr>\n",
       "    <tr>\n",
       "      <th>1</th>\n",
       "      <td>2. [NSW] Ring Fit Adventure – 1,591,366 / 2,0...</td>\n",
       "      <td>[NSW]</td>\n",
       "      <td>1,591,366 / 2,087,005</td>\n",
       "    </tr>\n",
       "    <tr>\n",
       "      <th>2</th>\n",
       "      <td>3. [NSW] Momotaro Dentetsu: Showa, Heisei, Re...</td>\n",
       "      <td>[NSW]</td>\n",
       "      <td>1,233,023 / NEW</td>\n",
       "    </tr>\n",
       "    <tr>\n",
       "      <th>3</th>\n",
       "      <td>4. [PS4] Final Fantasy VII Remake – 949,379 /...</td>\n",
       "      <td>[PS4]</td>\n",
       "      <td>949,379 / NEW</td>\n",
       "    </tr>\n",
       "    <tr>\n",
       "      <th>4</th>\n",
       "      <td>5. [NSW] Pokemon Sword/Shield – 892,456 / 3,8...</td>\n",
       "      <td>[NSW]</td>\n",
       "      <td>892,456 / 3,880,590</td>\n",
       "    </tr>\n",
       "    <tr>\n",
       "      <th>...</th>\n",
       "      <td>...</td>\n",
       "      <td>...</td>\n",
       "      <td>...</td>\n",
       "    </tr>\n",
       "    <tr>\n",
       "      <th>95</th>\n",
       "      <td>96. [PS4] Final Fantasy Crystal Chronicles Re...</td>\n",
       "      <td>[PS4]</td>\n",
       "      <td>38,200 / NEW</td>\n",
       "    </tr>\n",
       "    <tr>\n",
       "      <th>96</th>\n",
       "      <td>97. [NSW] Kotoba no Puzzle: Moji Pittan Encor...</td>\n",
       "      <td>[NSW]</td>\n",
       "      <td>38,018 / NEW</td>\n",
       "    </tr>\n",
       "    <tr>\n",
       "      <th>97</th>\n",
       "      <td>98. [NSW] Yoshi’s Crafted World – 37,458 / 22...</td>\n",
       "      <td>[NSW]</td>\n",
       "      <td>37,458 / 223,523</td>\n",
       "    </tr>\n",
       "    <tr>\n",
       "      <th>98</th>\n",
       "      <td>99. [PS4] NieR Automata Game of the YoRHa Edi...</td>\n",
       "      <td>[PS4]</td>\n",
       "      <td>37,120 / 96,968</td>\n",
       "    </tr>\n",
       "    <tr>\n",
       "      <th>99</th>\n",
       "      <td>100. [PS4] Gran Turismo Sport (PlayStation Hi...</td>\n",
       "      <td>[PS4]</td>\n",
       "      <td>36,507 / 49,245</td>\n",
       "    </tr>\n",
       "  </tbody>\n",
       "</table>\n",
       "<p>100 rows × 3 columns</p>\n",
       "</div>"
      ],
      "text/plain": [
       "                                                games console  \\\n",
       "0    1. [NSW] Animal Crossing: New Horizons – 6,37...   [NSW]   \n",
       "1    2. [NSW] Ring Fit Adventure – 1,591,366 / 2,0...   [NSW]   \n",
       "2    3. [NSW] Momotaro Dentetsu: Showa, Heisei, Re...   [NSW]   \n",
       "3    4. [PS4] Final Fantasy VII Remake – 949,379 /...   [PS4]   \n",
       "4    5. [NSW] Pokemon Sword/Shield – 892,456 / 3,8...   [NSW]   \n",
       "..                                                ...     ...   \n",
       "95   96. [PS4] Final Fantasy Crystal Chronicles Re...   [PS4]   \n",
       "96   97. [NSW] Kotoba no Puzzle: Moji Pittan Encor...   [NSW]   \n",
       "97   98. [NSW] Yoshi’s Crafted World – 37,458 / 22...   [NSW]   \n",
       "98   99. [PS4] NieR Automata Game of the YoRHa Edi...   [PS4]   \n",
       "99   100. [PS4] Gran Turismo Sport (PlayStation Hi...   [PS4]   \n",
       "\n",
       "                 units_sold  \n",
       "0          6,378,103 / NEW   \n",
       "1    1,591,366 / 2,087,005   \n",
       "2          1,233,023 / NEW   \n",
       "3            949,379 / NEW   \n",
       "4      892,456 / 3,880,590   \n",
       "..                      ...  \n",
       "95            38,200 / NEW   \n",
       "96            38,018 / NEW   \n",
       "97        37,458 / 223,523   \n",
       "98         37,120 / 96,968   \n",
       "99         36,507 / 49,245   \n",
       "\n",
       "[100 rows x 3 columns]"
      ]
     },
     "execution_count": 21,
     "metadata": {},
     "output_type": "execute_result"
    }
   ],
   "source": [
    "df_2020"
   ]
  },
  {
   "cell_type": "markdown",
   "id": "8544d5a9",
   "metadata": {},
   "source": [
    "## Cleaning again\n",
    "\n",
    "Kinda enjoying this part, to be honest. "
   ]
  },
  {
   "cell_type": "markdown",
   "id": "2919f250",
   "metadata": {},
   "source": [
    "### Console column\n",
    "\n",
    "The **\"console\"** column needs to be cleaned by removing the brackets."
   ]
  },
  {
   "cell_type": "code",
   "execution_count": 22,
   "id": "e2f30bd2",
   "metadata": {},
   "outputs": [],
   "source": [
    "df_2020.console= df_2020.console.str.strip()\n",
    "df_2020.console = df_2020.console.str.replace(\"[\", \"\", regex=False)\n",
    "df_2020.console = df_2020.console.str.replace(\"]\", \"\", regex=False)"
   ]
  },
  {
   "cell_type": "markdown",
   "id": "ad8991f1",
   "metadata": {},
   "source": [
    "### Units_sold column"
   ]
  },
  {
   "cell_type": "code",
   "execution_count": 23,
   "id": "b62b7326",
   "metadata": {},
   "outputs": [],
   "source": [
    "df_2020.units_sold = df_2020.units_sold.str.replace(r'[/]\\s.+$', \"\", regex=True)     #removes all figures after the /\n",
    "df_2020.units_sold = df_2020.units_sold.str.replace(',', '')"
   ]
  },
  {
   "cell_type": "markdown",
   "id": "3c835d73",
   "metadata": {},
   "source": [
    "### Games column"
   ]
  },
  {
   "cell_type": "code",
   "execution_count": 24,
   "id": "d754e0a1",
   "metadata": {},
   "outputs": [],
   "source": [
    "df_2020.games = df_2020.games.str.replace(r'[–]\\s.+$', \"\", regex=True)         #strips out all information in games after \"-\"\n",
    "df_2020.games = df_2020.games.str.replace(r'[^/d]*[.]', \"\", regex=True)        #strips out numbers in games column"
   ]
  },
  {
   "cell_type": "code",
   "execution_count": 25,
   "id": "7447abcc",
   "metadata": {},
   "outputs": [
    {
     "data": {
      "text/html": [
       "<div>\n",
       "<style scoped>\n",
       "    .dataframe tbody tr th:only-of-type {\n",
       "        vertical-align: middle;\n",
       "    }\n",
       "\n",
       "    .dataframe tbody tr th {\n",
       "        vertical-align: top;\n",
       "    }\n",
       "\n",
       "    .dataframe thead th {\n",
       "        text-align: right;\n",
       "    }\n",
       "</style>\n",
       "<table border=\"1\" class=\"dataframe\">\n",
       "  <thead>\n",
       "    <tr style=\"text-align: right;\">\n",
       "      <th></th>\n",
       "      <th>games</th>\n",
       "      <th>console</th>\n",
       "      <th>units_sold</th>\n",
       "    </tr>\n",
       "  </thead>\n",
       "  <tbody>\n",
       "    <tr>\n",
       "      <th>0</th>\n",
       "      <td>[NSW] Animal Crossing: New Horizons</td>\n",
       "      <td>NSW</td>\n",
       "      <td>6378103</td>\n",
       "    </tr>\n",
       "    <tr>\n",
       "      <th>1</th>\n",
       "      <td>[NSW] Ring Fit Adventure</td>\n",
       "      <td>NSW</td>\n",
       "      <td>1591366</td>\n",
       "    </tr>\n",
       "    <tr>\n",
       "      <th>2</th>\n",
       "      <td>[NSW] Momotaro Dentetsu: Showa, Heisei, Reiwa...</td>\n",
       "      <td>NSW</td>\n",
       "      <td>1233023</td>\n",
       "    </tr>\n",
       "    <tr>\n",
       "      <th>3</th>\n",
       "      <td>[PS4] Final Fantasy VII Remake</td>\n",
       "      <td>PS4</td>\n",
       "      <td>949379</td>\n",
       "    </tr>\n",
       "    <tr>\n",
       "      <th>4</th>\n",
       "      <td>[NSW] Pokemon Sword/Shield</td>\n",
       "      <td>NSW</td>\n",
       "      <td>892456</td>\n",
       "    </tr>\n",
       "    <tr>\n",
       "      <th>...</th>\n",
       "      <td>...</td>\n",
       "      <td>...</td>\n",
       "      <td>...</td>\n",
       "    </tr>\n",
       "    <tr>\n",
       "      <th>95</th>\n",
       "      <td>[PS4] Final Fantasy Crystal Chronicles Remast...</td>\n",
       "      <td>PS4</td>\n",
       "      <td>38200</td>\n",
       "    </tr>\n",
       "    <tr>\n",
       "      <th>96</th>\n",
       "      <td>[NSW] Kotoba no Puzzle: Moji Pittan Encore</td>\n",
       "      <td>NSW</td>\n",
       "      <td>38018</td>\n",
       "    </tr>\n",
       "    <tr>\n",
       "      <th>97</th>\n",
       "      <td>[NSW] Yoshi’s Crafted World</td>\n",
       "      <td>NSW</td>\n",
       "      <td>37458</td>\n",
       "    </tr>\n",
       "    <tr>\n",
       "      <th>98</th>\n",
       "      <td>[PS4] NieR Automata Game of the YoRHa Edition</td>\n",
       "      <td>PS4</td>\n",
       "      <td>37120</td>\n",
       "    </tr>\n",
       "    <tr>\n",
       "      <th>99</th>\n",
       "      <td>[PS4] Gran Turismo Sport (PlayStation Hits)</td>\n",
       "      <td>PS4</td>\n",
       "      <td>36507</td>\n",
       "    </tr>\n",
       "  </tbody>\n",
       "</table>\n",
       "<p>100 rows × 3 columns</p>\n",
       "</div>"
      ],
      "text/plain": [
       "                                                games console units_sold\n",
       "0                [NSW] Animal Crossing: New Horizons      NSW   6378103 \n",
       "1                           [NSW] Ring Fit Adventure      NSW   1591366 \n",
       "2    [NSW] Momotaro Dentetsu: Showa, Heisei, Reiwa...     NSW   1233023 \n",
       "3                     [PS4] Final Fantasy VII Remake      PS4    949379 \n",
       "4                         [NSW] Pokemon Sword/Shield      NSW    892456 \n",
       "..                                                ...     ...        ...\n",
       "95   [PS4] Final Fantasy Crystal Chronicles Remast...     PS4     38200 \n",
       "96        [NSW] Kotoba no Puzzle: Moji Pittan Encore      NSW     38018 \n",
       "97                       [NSW] Yoshi’s Crafted World      NSW     37458 \n",
       "98     [PS4] NieR Automata Game of the YoRHa Edition      PS4     37120 \n",
       "99       [PS4] Gran Turismo Sport (PlayStation Hits)      PS4     36507 \n",
       "\n",
       "[100 rows x 3 columns]"
      ]
     },
     "execution_count": 25,
     "metadata": {},
     "output_type": "execute_result"
    }
   ],
   "source": [
    "df_2020"
   ]
  },
  {
   "cell_type": "markdown",
   "id": "6a967f82",
   "metadata": {},
   "source": [
    "### Transform units_sold column to float and create new year column"
   ]
  },
  {
   "cell_type": "code",
   "execution_count": 26,
   "id": "08d450dd",
   "metadata": {},
   "outputs": [],
   "source": [
    "df_2020.units_sold= df_2020.units_sold.str.strip()\n",
    "df_2020.units_sold = df_2020.units_sold.str.replace('Welcome amiibo', \"52499\", regex=False)\n",
    "df_2020.units_sold = df_2020.units_sold.str.replace('Waiwai Gakuen Seikatsu', \"42077\", regex=False)\n",
    "df_2020.units_sold = df_2020.units_sold.astype(float)\n",
    "\n",
    "#These strip white spaces, inputs lost information on some entries which did not follow our regex format earlier\n",
    "#And then convert the column to float."
   ]
  },
  {
   "cell_type": "code",
   "execution_count": 27,
   "id": "9ab22521",
   "metadata": {},
   "outputs": [
    {
     "data": {
      "text/html": [
       "<div>\n",
       "<style scoped>\n",
       "    .dataframe tbody tr th:only-of-type {\n",
       "        vertical-align: middle;\n",
       "    }\n",
       "\n",
       "    .dataframe tbody tr th {\n",
       "        vertical-align: top;\n",
       "    }\n",
       "\n",
       "    .dataframe thead th {\n",
       "        text-align: right;\n",
       "    }\n",
       "</style>\n",
       "<table border=\"1\" class=\"dataframe\">\n",
       "  <thead>\n",
       "    <tr style=\"text-align: right;\">\n",
       "      <th></th>\n",
       "      <th>games</th>\n",
       "      <th>console</th>\n",
       "      <th>units_sold</th>\n",
       "      <th>year</th>\n",
       "    </tr>\n",
       "  </thead>\n",
       "  <tbody>\n",
       "    <tr>\n",
       "      <th>0</th>\n",
       "      <td>[NSW] Animal Crossing: New Horizons</td>\n",
       "      <td>NSW</td>\n",
       "      <td>6378103.0</td>\n",
       "      <td>2020</td>\n",
       "    </tr>\n",
       "    <tr>\n",
       "      <th>1</th>\n",
       "      <td>[NSW] Ring Fit Adventure</td>\n",
       "      <td>NSW</td>\n",
       "      <td>1591366.0</td>\n",
       "      <td>2020</td>\n",
       "    </tr>\n",
       "    <tr>\n",
       "      <th>2</th>\n",
       "      <td>[NSW] Momotaro Dentetsu: Showa, Heisei, Reiwa...</td>\n",
       "      <td>NSW</td>\n",
       "      <td>1233023.0</td>\n",
       "      <td>2020</td>\n",
       "    </tr>\n",
       "    <tr>\n",
       "      <th>3</th>\n",
       "      <td>[PS4] Final Fantasy VII Remake</td>\n",
       "      <td>PS4</td>\n",
       "      <td>949379.0</td>\n",
       "      <td>2020</td>\n",
       "    </tr>\n",
       "    <tr>\n",
       "      <th>4</th>\n",
       "      <td>[NSW] Pokemon Sword/Shield</td>\n",
       "      <td>NSW</td>\n",
       "      <td>892456.0</td>\n",
       "      <td>2020</td>\n",
       "    </tr>\n",
       "    <tr>\n",
       "      <th>...</th>\n",
       "      <td>...</td>\n",
       "      <td>...</td>\n",
       "      <td>...</td>\n",
       "      <td>...</td>\n",
       "    </tr>\n",
       "    <tr>\n",
       "      <th>95</th>\n",
       "      <td>[PS4] Final Fantasy Crystal Chronicles Remast...</td>\n",
       "      <td>PS4</td>\n",
       "      <td>38200.0</td>\n",
       "      <td>2020</td>\n",
       "    </tr>\n",
       "    <tr>\n",
       "      <th>96</th>\n",
       "      <td>[NSW] Kotoba no Puzzle: Moji Pittan Encore</td>\n",
       "      <td>NSW</td>\n",
       "      <td>38018.0</td>\n",
       "      <td>2020</td>\n",
       "    </tr>\n",
       "    <tr>\n",
       "      <th>97</th>\n",
       "      <td>[NSW] Yoshi’s Crafted World</td>\n",
       "      <td>NSW</td>\n",
       "      <td>37458.0</td>\n",
       "      <td>2020</td>\n",
       "    </tr>\n",
       "    <tr>\n",
       "      <th>98</th>\n",
       "      <td>[PS4] NieR Automata Game of the YoRHa Edition</td>\n",
       "      <td>PS4</td>\n",
       "      <td>37120.0</td>\n",
       "      <td>2020</td>\n",
       "    </tr>\n",
       "    <tr>\n",
       "      <th>99</th>\n",
       "      <td>[PS4] Gran Turismo Sport (PlayStation Hits)</td>\n",
       "      <td>PS4</td>\n",
       "      <td>36507.0</td>\n",
       "      <td>2020</td>\n",
       "    </tr>\n",
       "  </tbody>\n",
       "</table>\n",
       "<p>100 rows × 4 columns</p>\n",
       "</div>"
      ],
      "text/plain": [
       "                                                games console  units_sold  \\\n",
       "0                [NSW] Animal Crossing: New Horizons      NSW   6378103.0   \n",
       "1                           [NSW] Ring Fit Adventure      NSW   1591366.0   \n",
       "2    [NSW] Momotaro Dentetsu: Showa, Heisei, Reiwa...     NSW   1233023.0   \n",
       "3                     [PS4] Final Fantasy VII Remake      PS4    949379.0   \n",
       "4                         [NSW] Pokemon Sword/Shield      NSW    892456.0   \n",
       "..                                                ...     ...         ...   \n",
       "95   [PS4] Final Fantasy Crystal Chronicles Remast...     PS4     38200.0   \n",
       "96        [NSW] Kotoba no Puzzle: Moji Pittan Encore      NSW     38018.0   \n",
       "97                       [NSW] Yoshi’s Crafted World      NSW     37458.0   \n",
       "98     [PS4] NieR Automata Game of the YoRHa Edition      PS4     37120.0   \n",
       "99       [PS4] Gran Turismo Sport (PlayStation Hits)      PS4     36507.0   \n",
       "\n",
       "    year  \n",
       "0   2020  \n",
       "1   2020  \n",
       "2   2020  \n",
       "3   2020  \n",
       "4   2020  \n",
       "..   ...  \n",
       "95  2020  \n",
       "96  2020  \n",
       "97  2020  \n",
       "98  2020  \n",
       "99  2020  \n",
       "\n",
       "[100 rows x 4 columns]"
      ]
     },
     "execution_count": 27,
     "metadata": {},
     "output_type": "execute_result"
    }
   ],
   "source": [
    "df_2020['year']= '2020'\n",
    "df_2020"
   ]
  },
  {
   "cell_type": "markdown",
   "id": "95f8c94d",
   "metadata": {},
   "source": [
    "## 2019"
   ]
  },
  {
   "cell_type": "code",
   "execution_count": 28,
   "id": "1e85a69d",
   "metadata": {},
   "outputs": [],
   "source": [
    "raw_html2 = requests.get(\"https://twinfinite.net/2020/01/top-100-best-selling-games-2019-japan/\").content\n",
    "doc2 = BeautifulSoup(raw_html2, \"html.parser\")\n",
    "#print(doc2.prettify())"
   ]
  },
  {
   "cell_type": "code",
   "execution_count": 29,
   "id": "2728a309",
   "metadata": {},
   "outputs": [],
   "source": [
    "container= doc2.find('ol')\n",
    "dataset2= container.find_all('li')\n",
    "#dataset2"
   ]
  },
  {
   "cell_type": "markdown",
   "id": "1275b79d",
   "metadata": {},
   "source": [
    "## Generate the df and cleaning\n",
    "\n",
    "This is a repeat of the process above to get a second dataframe, this time with 2019 data in it."
   ]
  },
  {
   "cell_type": "code",
   "execution_count": 30,
   "id": "700595f1",
   "metadata": {},
   "outputs": [
    {
     "data": {
      "text/html": [
       "<div>\n",
       "<style scoped>\n",
       "    .dataframe tbody tr th:only-of-type {\n",
       "        vertical-align: middle;\n",
       "    }\n",
       "\n",
       "    .dataframe tbody tr th {\n",
       "        vertical-align: top;\n",
       "    }\n",
       "\n",
       "    .dataframe thead th {\n",
       "        text-align: right;\n",
       "    }\n",
       "</style>\n",
       "<table border=\"1\" class=\"dataframe\">\n",
       "  <thead>\n",
       "    <tr style=\"text-align: right;\">\n",
       "      <th></th>\n",
       "      <th>0</th>\n",
       "    </tr>\n",
       "  </thead>\n",
       "  <tbody>\n",
       "    <tr>\n",
       "      <th>0</th>\n",
       "      <td>Pokemon Sword &amp; Shield – Switch – 2,988,134</td>\n",
       "    </tr>\n",
       "    <tr>\n",
       "      <th>1</th>\n",
       "      <td>Super Smash Bros. Ultimate – Switch – 1,092,39...</td>\n",
       "    </tr>\n",
       "    <tr>\n",
       "      <th>2</th>\n",
       "      <td>Super Mario Maker 2 – Switch – 800,504</td>\n",
       "    </tr>\n",
       "    <tr>\n",
       "      <th>3</th>\n",
       "      <td>Kingdom Hearts 3 – PS4 – 861,226</td>\n",
       "    </tr>\n",
       "    <tr>\n",
       "      <th>4</th>\n",
       "      <td>New Super Mario Bros. U Deluxe – Switch – 747,589</td>\n",
       "    </tr>\n",
       "    <tr>\n",
       "      <th>...</th>\n",
       "      <td>...</td>\n",
       "    </tr>\n",
       "    <tr>\n",
       "      <th>95</th>\n",
       "      <td>Yakuza 4 – PS4 – 43,782</td>\n",
       "    </tr>\n",
       "    <tr>\n",
       "      <th>96</th>\n",
       "      <td>Azur Lane: Crosswave – PS4 – 43,585</td>\n",
       "    </tr>\n",
       "    <tr>\n",
       "      <th>97</th>\n",
       "      <td>Tales of Vesperia: Definitive Edition – Switch...</td>\n",
       "    </tr>\n",
       "    <tr>\n",
       "      <th>98</th>\n",
       "      <td>Dead by Daylight – PS4 – 41,682 [59,353]</td>\n",
       "    </tr>\n",
       "    <tr>\n",
       "      <th>99</th>\n",
       "      <td>Chocobo’s Mystery Dungeon: Every Buddy! – PS4 ...</td>\n",
       "    </tr>\n",
       "  </tbody>\n",
       "</table>\n",
       "<p>100 rows × 1 columns</p>\n",
       "</div>"
      ],
      "text/plain": [
       "                                                    0\n",
       "0         Pokemon Sword & Shield – Switch – 2,988,134\n",
       "1   Super Smash Bros. Ultimate – Switch – 1,092,39...\n",
       "2              Super Mario Maker 2 – Switch – 800,504\n",
       "3                    Kingdom Hearts 3 – PS4 – 861,226\n",
       "4   New Super Mario Bros. U Deluxe – Switch – 747,589\n",
       "..                                                ...\n",
       "95                            Yakuza 4 – PS4 – 43,782\n",
       "96                Azur Lane: Crosswave – PS4 – 43,585\n",
       "97  Tales of Vesperia: Definitive Edition – Switch...\n",
       "98           Dead by Daylight – PS4 – 41,682 [59,353]\n",
       "99  Chocobo’s Mystery Dungeon: Every Buddy! – PS4 ...\n",
       "\n",
       "[100 rows x 1 columns]"
      ]
     },
     "execution_count": 30,
     "metadata": {},
     "output_type": "execute_result"
    }
   ],
   "source": [
    "df_2019 = pd.DataFrame(dataset2)\n",
    "df_2019"
   ]
  },
  {
   "cell_type": "markdown",
   "id": "1f94f015",
   "metadata": {},
   "source": [
    "### Putting up a new column, stripping all white spaces, and 'games' column of separated info"
   ]
  },
  {
   "cell_type": "code",
   "execution_count": 31,
   "id": "997fed15",
   "metadata": {},
   "outputs": [],
   "source": [
    "df_2019.columns = ['games']\n",
    "df_2019.games = df_2019.games.astype(str)"
   ]
  },
  {
   "cell_type": "code",
   "execution_count": 32,
   "id": "beed90d9",
   "metadata": {},
   "outputs": [],
   "source": [
    "df_2019.games.str.strip()                                                 #strips out all white spaces\n",
    "df_2019['console'] = df_2019.games.str.split(expand=True, pat=\"–\")[1]         #splits the contents and using a part of it in new cols\n",
    "df_2019['units_sold'] = df_2019.games.str.split(expand=True, pat=\"–\")[2]"
   ]
  },
  {
   "cell_type": "markdown",
   "id": "156093c6",
   "metadata": {},
   "source": [
    "The **\"console\"** column is already clean as it is, but we are renaming **Switch** to **NSW** to match its name on the first dataframe."
   ]
  },
  {
   "cell_type": "code",
   "execution_count": 33,
   "id": "558b6c32",
   "metadata": {},
   "outputs": [],
   "source": [
    "df_2019.console= df_2019.console.str.strip()\n",
    "df_2019.console= df_2019.console.str.replace('Switch', 'NSW')"
   ]
  },
  {
   "cell_type": "code",
   "execution_count": 34,
   "id": "5efc58b9",
   "metadata": {},
   "outputs": [],
   "source": [
    "df_2019.games = df_2019.games.str.replace(r'[–]\\s.+$', \"\", regex=True)         #strips out all information in games after \"-\""
   ]
  },
  {
   "cell_type": "markdown",
   "id": "7839e571",
   "metadata": {},
   "source": [
    "### Cleaning the console column\n",
    "\n",
    "There were some entries in the console column whose information after the first **\"-\"**, which we used to remove patterns using regex, contained an extension of their game names, not console names. We manually change this below."
   ]
  },
  {
   "cell_type": "code",
   "execution_count": 35,
   "id": "3981e9e5",
   "metadata": {},
   "outputs": [],
   "source": [
    "df_2019.console = df_2019.console.str.replace('The Official Video Game', \"Switch\", regex=False)\n",
    "df_2019.console = df_2019.console.str.replace('Game of the YoRHa Edition', \"PS4\", regex=False)\n",
    "df_2019.console = df_2019.console.str.replace('Welcome amiibo', \"3DS\", regex=False)\n",
    "df_2019.console = df_2019.console.str.replace('Ps4', 'PS4', regex=False)              #one entry is named Ps4, instead of PS4"
   ]
  },
  {
   "cell_type": "markdown",
   "id": "d04c190c",
   "metadata": {},
   "source": [
    "### Cleaning the units_sold column to transform to float"
   ]
  },
  {
   "cell_type": "code",
   "execution_count": 36,
   "id": "8766feed",
   "metadata": {},
   "outputs": [],
   "source": [
    "df_2019.units_sold = df_2019.units_sold.str.replace(',', \"\", regex=False)                #removes all commas\n",
    "df_2019.units_sold = df_2019.units_sold.str.replace('.', \"\", regex=False)               #removes a period in one entry\n",
    "df_2019.units_sold = df_2019.units_sold.str.replace('Switch', \"89491\", regex=False)     #replaces a name with number  \n",
    "df_2019.units_sold = df_2019.units_sold.str.replace('PS4', \"59848\", regex=False)\n",
    "df_2019.units_sold = df_2019.units_sold.str.replace('3DS', \"47880\", regex=False)\n",
    "\n",
    "#These clean the units_sold column and then we convert this to float for analysis later"
   ]
  },
  {
   "cell_type": "code",
   "execution_count": 37,
   "id": "bc2744ff",
   "metadata": {},
   "outputs": [],
   "source": [
    "df_2019.units_sold= df_2019.units_sold.str.strip()\n",
    "df_2019.units_sold = df_2019.units_sold.str.replace(r'\\[\\d+\\]$', \"\", regex=True)      #removes all figures from the brackets"
   ]
  },
  {
   "cell_type": "code",
   "execution_count": 38,
   "id": "c5e8ab40",
   "metadata": {},
   "outputs": [],
   "source": [
    "df_2019.units_sold= df_2019.units_sold.str.strip()\n",
    "df_2019.units_sold = df_2019.units_sold.astype(float)"
   ]
  },
  {
   "cell_type": "code",
   "execution_count": 39,
   "id": "9f245792",
   "metadata": {},
   "outputs": [
    {
     "data": {
      "text/html": [
       "<div>\n",
       "<style scoped>\n",
       "    .dataframe tbody tr th:only-of-type {\n",
       "        vertical-align: middle;\n",
       "    }\n",
       "\n",
       "    .dataframe tbody tr th {\n",
       "        vertical-align: top;\n",
       "    }\n",
       "\n",
       "    .dataframe thead th {\n",
       "        text-align: right;\n",
       "    }\n",
       "</style>\n",
       "<table border=\"1\" class=\"dataframe\">\n",
       "  <thead>\n",
       "    <tr style=\"text-align: right;\">\n",
       "      <th></th>\n",
       "      <th>games</th>\n",
       "      <th>console</th>\n",
       "      <th>units_sold</th>\n",
       "      <th>year</th>\n",
       "    </tr>\n",
       "  </thead>\n",
       "  <tbody>\n",
       "    <tr>\n",
       "      <th>0</th>\n",
       "      <td>Pokemon Sword &amp; Shield</td>\n",
       "      <td>NSW</td>\n",
       "      <td>2988134.0</td>\n",
       "      <td>2019</td>\n",
       "    </tr>\n",
       "    <tr>\n",
       "      <th>1</th>\n",
       "      <td>Super Smash Bros. Ultimate</td>\n",
       "      <td>NSW</td>\n",
       "      <td>1092397.0</td>\n",
       "      <td>2019</td>\n",
       "    </tr>\n",
       "    <tr>\n",
       "      <th>2</th>\n",
       "      <td>Super Mario Maker 2</td>\n",
       "      <td>NSW</td>\n",
       "      <td>800504.0</td>\n",
       "      <td>2019</td>\n",
       "    </tr>\n",
       "    <tr>\n",
       "      <th>3</th>\n",
       "      <td>Kingdom Hearts 3</td>\n",
       "      <td>PS4</td>\n",
       "      <td>861226.0</td>\n",
       "      <td>2019</td>\n",
       "    </tr>\n",
       "    <tr>\n",
       "      <th>4</th>\n",
       "      <td>New Super Mario Bros. U Deluxe</td>\n",
       "      <td>NSW</td>\n",
       "      <td>747589.0</td>\n",
       "      <td>2019</td>\n",
       "    </tr>\n",
       "    <tr>\n",
       "      <th>...</th>\n",
       "      <td>...</td>\n",
       "      <td>...</td>\n",
       "      <td>...</td>\n",
       "      <td>...</td>\n",
       "    </tr>\n",
       "    <tr>\n",
       "      <th>95</th>\n",
       "      <td>Yakuza 4</td>\n",
       "      <td>PS4</td>\n",
       "      <td>43782.0</td>\n",
       "      <td>2019</td>\n",
       "    </tr>\n",
       "    <tr>\n",
       "      <th>96</th>\n",
       "      <td>Azur Lane: Crosswave</td>\n",
       "      <td>PS4</td>\n",
       "      <td>43585.0</td>\n",
       "      <td>2019</td>\n",
       "    </tr>\n",
       "    <tr>\n",
       "      <th>97</th>\n",
       "      <td>Tales of Vesperia: Definitive Edition</td>\n",
       "      <td>NSW</td>\n",
       "      <td>42816.0</td>\n",
       "      <td>2019</td>\n",
       "    </tr>\n",
       "    <tr>\n",
       "      <th>98</th>\n",
       "      <td>Dead by Daylight</td>\n",
       "      <td>PS4</td>\n",
       "      <td>41682.0</td>\n",
       "      <td>2019</td>\n",
       "    </tr>\n",
       "    <tr>\n",
       "      <th>99</th>\n",
       "      <td>Chocobo’s Mystery Dungeon: Every Buddy!</td>\n",
       "      <td>PS4</td>\n",
       "      <td>41354.0</td>\n",
       "      <td>2019</td>\n",
       "    </tr>\n",
       "  </tbody>\n",
       "</table>\n",
       "<p>100 rows × 4 columns</p>\n",
       "</div>"
      ],
      "text/plain": [
       "                                       games console  units_sold  year\n",
       "0                    Pokemon Sword & Shield      NSW   2988134.0  2019\n",
       "1                Super Smash Bros. Ultimate      NSW   1092397.0  2019\n",
       "2                       Super Mario Maker 2      NSW    800504.0  2019\n",
       "3                          Kingdom Hearts 3      PS4    861226.0  2019\n",
       "4            New Super Mario Bros. U Deluxe      NSW    747589.0  2019\n",
       "..                                       ...     ...         ...   ...\n",
       "95                                 Yakuza 4      PS4     43782.0  2019\n",
       "96                     Azur Lane: Crosswave      PS4     43585.0  2019\n",
       "97    Tales of Vesperia: Definitive Edition      NSW     42816.0  2019\n",
       "98                         Dead by Daylight      PS4     41682.0  2019\n",
       "99  Chocobo’s Mystery Dungeon: Every Buddy!      PS4     41354.0  2019\n",
       "\n",
       "[100 rows x 4 columns]"
      ]
     },
     "execution_count": 39,
     "metadata": {},
     "output_type": "execute_result"
    }
   ],
   "source": [
    "df_2019['year']= '2019'\n",
    "df_2019"
   ]
  },
  {
   "cell_type": "markdown",
   "id": "6d939d8b",
   "metadata": {},
   "source": [
    "### Combine the three dataframes"
   ]
  },
  {
   "cell_type": "code",
   "execution_count": 40,
   "id": "097ba884",
   "metadata": {},
   "outputs": [
    {
     "data": {
      "text/html": [
       "<div>\n",
       "<style scoped>\n",
       "    .dataframe tbody tr th:only-of-type {\n",
       "        vertical-align: middle;\n",
       "    }\n",
       "\n",
       "    .dataframe tbody tr th {\n",
       "        vertical-align: top;\n",
       "    }\n",
       "\n",
       "    .dataframe thead th {\n",
       "        text-align: right;\n",
       "    }\n",
       "</style>\n",
       "<table border=\"1\" class=\"dataframe\">\n",
       "  <thead>\n",
       "    <tr style=\"text-align: right;\">\n",
       "      <th></th>\n",
       "      <th>games</th>\n",
       "      <th>console</th>\n",
       "      <th>units_sold</th>\n",
       "      <th>year</th>\n",
       "    </tr>\n",
       "  </thead>\n",
       "  <tbody>\n",
       "    <tr>\n",
       "      <th>0</th>\n",
       "      <td>Monster Hunter Rise</td>\n",
       "      <td>NSW</td>\n",
       "      <td>2350693.0</td>\n",
       "      <td>2021</td>\n",
       "    </tr>\n",
       "    <tr>\n",
       "      <th>1</th>\n",
       "      <td>Pokemon Brilliant Diamond / Shining Pearl</td>\n",
       "      <td>NSW</td>\n",
       "      <td>2313115.0</td>\n",
       "      <td>2021</td>\n",
       "    </tr>\n",
       "    <tr>\n",
       "      <th>2</th>\n",
       "      <td>Momotaro Dentetsu: Showa, Heisei, Reiwa mo Tei...</td>\n",
       "      <td>NSW</td>\n",
       "      <td>1266477.0</td>\n",
       "      <td>2021</td>\n",
       "    </tr>\n",
       "    <tr>\n",
       "      <th>3</th>\n",
       "      <td>Super Mario 3D World + Bowser’s Fury</td>\n",
       "      <td>NSW</td>\n",
       "      <td>971418.0</td>\n",
       "      <td>2021</td>\n",
       "    </tr>\n",
       "    <tr>\n",
       "      <th>4</th>\n",
       "      <td>Ring Fit Adventure</td>\n",
       "      <td>NSW</td>\n",
       "      <td>904685.0</td>\n",
       "      <td>2021</td>\n",
       "    </tr>\n",
       "    <tr>\n",
       "      <th>...</th>\n",
       "      <td>...</td>\n",
       "      <td>...</td>\n",
       "      <td>...</td>\n",
       "      <td>...</td>\n",
       "    </tr>\n",
       "    <tr>\n",
       "      <th>95</th>\n",
       "      <td>Yakuza 4</td>\n",
       "      <td>PS4</td>\n",
       "      <td>43782.0</td>\n",
       "      <td>2019</td>\n",
       "    </tr>\n",
       "    <tr>\n",
       "      <th>96</th>\n",
       "      <td>Azur Lane: Crosswave</td>\n",
       "      <td>PS4</td>\n",
       "      <td>43585.0</td>\n",
       "      <td>2019</td>\n",
       "    </tr>\n",
       "    <tr>\n",
       "      <th>97</th>\n",
       "      <td>Tales of Vesperia: Definitive Edition</td>\n",
       "      <td>NSW</td>\n",
       "      <td>42816.0</td>\n",
       "      <td>2019</td>\n",
       "    </tr>\n",
       "    <tr>\n",
       "      <th>98</th>\n",
       "      <td>Dead by Daylight</td>\n",
       "      <td>PS4</td>\n",
       "      <td>41682.0</td>\n",
       "      <td>2019</td>\n",
       "    </tr>\n",
       "    <tr>\n",
       "      <th>99</th>\n",
       "      <td>Chocobo’s Mystery Dungeon: Every Buddy!</td>\n",
       "      <td>PS4</td>\n",
       "      <td>41354.0</td>\n",
       "      <td>2019</td>\n",
       "    </tr>\n",
       "  </tbody>\n",
       "</table>\n",
       "<p>300 rows × 4 columns</p>\n",
       "</div>"
      ],
      "text/plain": [
       "                                                games console  units_sold  \\\n",
       "0                                Monster Hunter Rise      NSW   2350693.0   \n",
       "1          Pokemon Brilliant Diamond / Shining Pearl      NSW   2313115.0   \n",
       "2   Momotaro Dentetsu: Showa, Heisei, Reiwa mo Tei...     NSW   1266477.0   \n",
       "3               Super Mario 3D World + Bowser’s Fury      NSW    971418.0   \n",
       "4                                 Ring Fit Adventure      NSW    904685.0   \n",
       "..                                                ...     ...         ...   \n",
       "95                                          Yakuza 4      PS4     43782.0   \n",
       "96                              Azur Lane: Crosswave      PS4     43585.0   \n",
       "97             Tales of Vesperia: Definitive Edition      NSW     42816.0   \n",
       "98                                  Dead by Daylight      PS4     41682.0   \n",
       "99           Chocobo’s Mystery Dungeon: Every Buddy!      PS4     41354.0   \n",
       "\n",
       "    year  \n",
       "0   2021  \n",
       "1   2021  \n",
       "2   2021  \n",
       "3   2021  \n",
       "4   2021  \n",
       "..   ...  \n",
       "95  2019  \n",
       "96  2019  \n",
       "97  2019  \n",
       "98  2019  \n",
       "99  2019  \n",
       "\n",
       "[300 rows x 4 columns]"
      ]
     },
     "execution_count": 40,
     "metadata": {},
     "output_type": "execute_result"
    }
   ],
   "source": [
    "df_full_list= pd.concat([df_2021, df_2020, df_2019])\n",
    "df_full_list\n",
    "\n",
    "# We are not reseting the index because we would want to use it to easily determine the rankings of each game\n",
    "# per year."
   ]
  },
  {
   "cell_type": "markdown",
   "id": "7f76f1bf",
   "metadata": {},
   "source": [
    "### Save to CSV\n",
    "\n",
    "This is for further manual cleaning. Ideally, you would want to do this all in the notebook, but since it's a small dataset, we can do this in **Excel**. We would want to check, for instance, for games with different names in each list but pertaining to the same game.\n",
    "\n",
    "We will use this CSV for our **initial analysis** below."
   ]
  },
  {
   "cell_type": "code",
   "execution_count": 41,
   "id": "8d6f2ead",
   "metadata": {},
   "outputs": [],
   "source": [
    "#df_full_list.to_csv('video-games-wide.csv')"
   ]
  },
  {
   "cell_type": "markdown",
   "id": "eacea1b0",
   "metadata": {},
   "source": [
    "# Initial analysis"
   ]
  },
  {
   "cell_type": "code",
   "execution_count": 42,
   "id": "f7126bbd",
   "metadata": {},
   "outputs": [
    {
     "data": {
      "text/html": [
       "<div>\n",
       "<style scoped>\n",
       "    .dataframe tbody tr th:only-of-type {\n",
       "        vertical-align: middle;\n",
       "    }\n",
       "\n",
       "    .dataframe tbody tr th {\n",
       "        vertical-align: top;\n",
       "    }\n",
       "\n",
       "    .dataframe thead th {\n",
       "        text-align: right;\n",
       "    }\n",
       "</style>\n",
       "<table border=\"1\" class=\"dataframe\">\n",
       "  <thead>\n",
       "    <tr style=\"text-align: right;\">\n",
       "      <th></th>\n",
       "      <th>games</th>\n",
       "      <th>console</th>\n",
       "      <th>units_sold</th>\n",
       "      <th>year</th>\n",
       "    </tr>\n",
       "  </thead>\n",
       "  <tbody>\n",
       "    <tr>\n",
       "      <th>0</th>\n",
       "      <td>Monster Hunter Rise</td>\n",
       "      <td>NSW</td>\n",
       "      <td>2350693.0</td>\n",
       "      <td>2021</td>\n",
       "    </tr>\n",
       "    <tr>\n",
       "      <th>1</th>\n",
       "      <td>Pokemon Brilliant Diamond / Shining Pearl</td>\n",
       "      <td>NSW</td>\n",
       "      <td>2313115.0</td>\n",
       "      <td>2021</td>\n",
       "    </tr>\n",
       "    <tr>\n",
       "      <th>2</th>\n",
       "      <td>Momotaro Dentetsu: Showa, Heisei, Reiwa mo Tei...</td>\n",
       "      <td>NSW</td>\n",
       "      <td>1266477.0</td>\n",
       "      <td>2021</td>\n",
       "    </tr>\n",
       "    <tr>\n",
       "      <th>3</th>\n",
       "      <td>Super Mario 3D World + Bowser’s Fury</td>\n",
       "      <td>NSW</td>\n",
       "      <td>971418.0</td>\n",
       "      <td>2021</td>\n",
       "    </tr>\n",
       "    <tr>\n",
       "      <th>4</th>\n",
       "      <td>Ring Fit Adventure</td>\n",
       "      <td>NSW</td>\n",
       "      <td>904685.0</td>\n",
       "      <td>2021</td>\n",
       "    </tr>\n",
       "    <tr>\n",
       "      <th>...</th>\n",
       "      <td>...</td>\n",
       "      <td>...</td>\n",
       "      <td>...</td>\n",
       "      <td>...</td>\n",
       "    </tr>\n",
       "    <tr>\n",
       "      <th>95</th>\n",
       "      <td>Yakuza 4</td>\n",
       "      <td>PS4</td>\n",
       "      <td>43782.0</td>\n",
       "      <td>2019</td>\n",
       "    </tr>\n",
       "    <tr>\n",
       "      <th>96</th>\n",
       "      <td>Azur Lane: Crosswave</td>\n",
       "      <td>PS4</td>\n",
       "      <td>43585.0</td>\n",
       "      <td>2019</td>\n",
       "    </tr>\n",
       "    <tr>\n",
       "      <th>97</th>\n",
       "      <td>Tales of Vesperia: Definitive Edition</td>\n",
       "      <td>NSW</td>\n",
       "      <td>42816.0</td>\n",
       "      <td>2019</td>\n",
       "    </tr>\n",
       "    <tr>\n",
       "      <th>98</th>\n",
       "      <td>Dead by Daylight</td>\n",
       "      <td>PS4</td>\n",
       "      <td>41682.0</td>\n",
       "      <td>2019</td>\n",
       "    </tr>\n",
       "    <tr>\n",
       "      <th>99</th>\n",
       "      <td>Chocobo’s Mystery Dungeon: Every Buddy!</td>\n",
       "      <td>PS4</td>\n",
       "      <td>41354.0</td>\n",
       "      <td>2019</td>\n",
       "    </tr>\n",
       "  </tbody>\n",
       "</table>\n",
       "<p>300 rows × 4 columns</p>\n",
       "</div>"
      ],
      "text/plain": [
       "                                                games console  units_sold  \\\n",
       "0                                Monster Hunter Rise      NSW   2350693.0   \n",
       "1          Pokemon Brilliant Diamond / Shining Pearl      NSW   2313115.0   \n",
       "2   Momotaro Dentetsu: Showa, Heisei, Reiwa mo Tei...     NSW   1266477.0   \n",
       "3               Super Mario 3D World + Bowser’s Fury      NSW    971418.0   \n",
       "4                                 Ring Fit Adventure      NSW    904685.0   \n",
       "..                                                ...     ...         ...   \n",
       "95                                          Yakuza 4      PS4     43782.0   \n",
       "96                              Azur Lane: Crosswave      PS4     43585.0   \n",
       "97             Tales of Vesperia: Definitive Edition      NSW     42816.0   \n",
       "98                                  Dead by Daylight      PS4     41682.0   \n",
       "99           Chocobo’s Mystery Dungeon: Every Buddy!      PS4     41354.0   \n",
       "\n",
       "    year  \n",
       "0   2021  \n",
       "1   2021  \n",
       "2   2021  \n",
       "3   2021  \n",
       "4   2021  \n",
       "..   ...  \n",
       "95  2019  \n",
       "96  2019  \n",
       "97  2019  \n",
       "98  2019  \n",
       "99  2019  \n",
       "\n",
       "[300 rows x 4 columns]"
      ]
     },
     "execution_count": 42,
     "metadata": {},
     "output_type": "execute_result"
    }
   ],
   "source": [
    "df_full_list"
   ]
  },
  {
   "cell_type": "markdown",
   "id": "615195b9",
   "metadata": {},
   "source": [
    "## How many games from the 2019 list were still in the 2021 list? What were these games?"
   ]
  },
  {
   "cell_type": "code",
   "execution_count": 43,
   "id": "43a04fca",
   "metadata": {},
   "outputs": [
    {
     "data": {
      "text/plain": [
       "False    275\n",
       "True      25\n",
       "Name: games, dtype: int64"
      ]
     },
     "execution_count": 43,
     "metadata": {},
     "output_type": "execute_result"
    }
   ],
   "source": [
    "df_full_list.games.duplicated().value_counts()\n",
    "#Interpretation: There were 25 games in the 2019 list that still made it in the 2021 list."
   ]
  },
  {
   "cell_type": "markdown",
   "id": "49d4f4ba",
   "metadata": {},
   "source": [
    "## What is the average unit sales per each year?"
   ]
  },
  {
   "cell_type": "code",
   "execution_count": 59,
   "id": "df331341",
   "metadata": {},
   "outputs": [
    {
     "data": {
      "text/plain": [
       "year\n",
       "2019    203292.06\n",
       "2020    250093.31\n",
       "2021    215562.04\n",
       "Name: units_sold, dtype: float64"
      ]
     },
     "execution_count": 59,
     "metadata": {},
     "output_type": "execute_result"
    }
   ],
   "source": [
    "df_full_list.groupby('year').units_sold.mean()"
   ]
  },
  {
   "cell_type": "markdown",
   "id": "a7a0f871",
   "metadata": {},
   "source": [
    "## Which year had the most number of game units sold for the Top 100 games?"
   ]
  },
  {
   "cell_type": "code",
   "execution_count": 44,
   "id": "18c939bc",
   "metadata": {},
   "outputs": [
    {
     "data": {
      "text/plain": [
       "year\n",
       "2019    20329206.0\n",
       "2020    25009331.0\n",
       "2021    21556204.0\n",
       "Name: units_sold, dtype: float64"
      ]
     },
     "execution_count": 44,
     "metadata": {},
     "output_type": "execute_result"
    }
   ],
   "source": [
    "df_full_list.groupby('year').units_sold.sum()"
   ]
  },
  {
   "cell_type": "code",
   "execution_count": 45,
   "id": "ffd055cb",
   "metadata": {},
   "outputs": [
    {
     "data": {
      "text/plain": [
       "year\n",
       "2019         NaN\n",
       "2020    0.230217\n",
       "2021   -0.138074\n",
       "Name: units_sold, dtype: float64"
      ]
     },
     "execution_count": 45,
     "metadata": {},
     "output_type": "execute_result"
    }
   ],
   "source": [
    "df_full_list.groupby('year').units_sold.sum().pct_change()"
   ]
  },
  {
   "cell_type": "markdown",
   "id": "2645895d",
   "metadata": {},
   "source": [
    "**Interpretation:** Among those in the list, there was nearly a **14% decrease** in game units sold between 2020 and 2021. That followed a 23% uptick in game units sold from 2019 to 2020."
   ]
  },
  {
   "cell_type": "markdown",
   "id": "6fa1b89c",
   "metadata": {},
   "source": [
    "## How many games were sold by different consoles?"
   ]
  },
  {
   "cell_type": "code",
   "execution_count": 46,
   "id": "cd402df9",
   "metadata": {},
   "outputs": [
    {
     "data": {
      "text/html": [
       "<div>\n",
       "<style scoped>\n",
       "    .dataframe tbody tr th:only-of-type {\n",
       "        vertical-align: middle;\n",
       "    }\n",
       "\n",
       "    .dataframe tbody tr th {\n",
       "        vertical-align: top;\n",
       "    }\n",
       "\n",
       "    .dataframe thead th {\n",
       "        text-align: right;\n",
       "    }\n",
       "</style>\n",
       "<table border=\"1\" class=\"dataframe\">\n",
       "  <thead>\n",
       "    <tr style=\"text-align: right;\">\n",
       "      <th>console</th>\n",
       "      <th>year</th>\n",
       "      <th>3DS</th>\n",
       "      <th>NSW</th>\n",
       "      <th>PS Vita</th>\n",
       "      <th>PS4</th>\n",
       "      <th>PS5</th>\n",
       "      <th>Switch</th>\n",
       "    </tr>\n",
       "  </thead>\n",
       "  <tbody>\n",
       "    <tr>\n",
       "      <th>0</th>\n",
       "      <td>2019</td>\n",
       "      <td>128189.0</td>\n",
       "      <td>13829419.0</td>\n",
       "      <td>70763.0</td>\n",
       "      <td>6211344.0</td>\n",
       "      <td>0</td>\n",
       "      <td>89491.0</td>\n",
       "    </tr>\n",
       "    <tr>\n",
       "      <th>1</th>\n",
       "      <td>2020</td>\n",
       "      <td>52499.0</td>\n",
       "      <td>20042819.0</td>\n",
       "      <td>0</td>\n",
       "      <td>4914013.0</td>\n",
       "      <td>0</td>\n",
       "      <td>0</td>\n",
       "    </tr>\n",
       "    <tr>\n",
       "      <th>2</th>\n",
       "      <td>2021</td>\n",
       "      <td>0</td>\n",
       "      <td>19569984.0</td>\n",
       "      <td>0</td>\n",
       "      <td>1735513.0</td>\n",
       "      <td>250707.0</td>\n",
       "      <td>0</td>\n",
       "    </tr>\n",
       "  </tbody>\n",
       "</table>\n",
       "</div>"
      ],
      "text/plain": [
       "console  year       3DS         NSW  PS Vita        PS4       PS5   Switch\n",
       "0        2019  128189.0  13829419.0  70763.0  6211344.0         0  89491.0\n",
       "1        2020   52499.0  20042819.0        0  4914013.0         0        0\n",
       "2        2021         0  19569984.0        0  1735513.0  250707.0        0"
      ]
     },
     "execution_count": 46,
     "metadata": {},
     "output_type": "execute_result"
    }
   ],
   "source": [
    "df_pivot = df_full_list.pivot_table(columns=\"console\", index='year', values='units_sold', aggfunc='sum', fill_value='0', dropna=False).reset_index()\n",
    "df_pivot"
   ]
  },
  {
   "cell_type": "code",
   "execution_count": 47,
   "id": "e4943b3a",
   "metadata": {},
   "outputs": [
    {
     "data": {
      "text/plain": [
       "year  console\n",
       "2019  NSW        48\n",
       "      PS4        48\n",
       "      3DS         2\n",
       "      PS Vita     1\n",
       "      Switch      1\n",
       "2020  NSW        62\n",
       "      PS4        37\n",
       "      3DS         1\n",
       "2021  NSW        75\n",
       "      PS4        20\n",
       "      PS5         5\n",
       "Name: console, dtype: int64"
      ]
     },
     "execution_count": 47,
     "metadata": {},
     "output_type": "execute_result"
    }
   ],
   "source": [
    "df_full_list.groupby('year').console.value_counts()"
   ]
  },
  {
   "cell_type": "markdown",
   "id": "d7711278",
   "metadata": {},
   "source": [
    "**Interpretation:** Nearly two in three best-selling games in Japan were created by Nintendo in 2020. In 2021, that number rose to three in four."
   ]
  },
  {
   "cell_type": "markdown",
   "id": "441cc7c5",
   "metadata": {},
   "source": [
    "## By franchise game\n",
    "\n",
    "## How many units sold were for a Pokemon game? "
   ]
  },
  {
   "cell_type": "code",
   "execution_count": 48,
   "id": "c04e64f9",
   "metadata": {},
   "outputs": [
    {
     "data": {
      "text/plain": [
       "year\n",
       "2019    2988134.0\n",
       "2020    1401962.0\n",
       "2021    3062072.0\n",
       "Name: units_sold, dtype: float64"
      ]
     },
     "execution_count": 48,
     "metadata": {},
     "output_type": "execute_result"
    }
   ],
   "source": [
    "df_full_list[df_full_list.games.str.contains(r'\\bpokemon', case=False, regex=True)].groupby('year').units_sold.sum()"
   ]
  },
  {
   "cell_type": "code",
   "execution_count": 49,
   "id": "fe89991f",
   "metadata": {},
   "outputs": [
    {
     "data": {
      "text/html": [
       "<div>\n",
       "<style scoped>\n",
       "    .dataframe tbody tr th:only-of-type {\n",
       "        vertical-align: middle;\n",
       "    }\n",
       "\n",
       "    .dataframe tbody tr th {\n",
       "        vertical-align: top;\n",
       "    }\n",
       "\n",
       "    .dataframe thead th {\n",
       "        text-align: right;\n",
       "    }\n",
       "</style>\n",
       "<table border=\"1\" class=\"dataframe\">\n",
       "  <thead>\n",
       "    <tr style=\"text-align: right;\">\n",
       "      <th></th>\n",
       "      <th>games</th>\n",
       "      <th>console</th>\n",
       "      <th>units_sold</th>\n",
       "      <th>year</th>\n",
       "    </tr>\n",
       "  </thead>\n",
       "  <tbody>\n",
       "    <tr>\n",
       "      <th>1</th>\n",
       "      <td>Pokemon Brilliant Diamond / Shining Pearl</td>\n",
       "      <td>NSW</td>\n",
       "      <td>2313115.0</td>\n",
       "      <td>2021</td>\n",
       "    </tr>\n",
       "    <tr>\n",
       "      <th>10</th>\n",
       "      <td>Pokemon Sword / Shield</td>\n",
       "      <td>NSW</td>\n",
       "      <td>381848.0</td>\n",
       "      <td>2021</td>\n",
       "    </tr>\n",
       "    <tr>\n",
       "      <th>13</th>\n",
       "      <td>New Pokemon Snap</td>\n",
       "      <td>NSW</td>\n",
       "      <td>312931.0</td>\n",
       "      <td>2021</td>\n",
       "    </tr>\n",
       "    <tr>\n",
       "      <th>72</th>\n",
       "      <td>Pokemon Sword / Shield + Expansion Pass</td>\n",
       "      <td>NSW</td>\n",
       "      <td>54178.0</td>\n",
       "      <td>2021</td>\n",
       "    </tr>\n",
       "    <tr>\n",
       "      <th>4</th>\n",
       "      <td>[NSW] Pokemon Sword/Shield</td>\n",
       "      <td>NSW</td>\n",
       "      <td>892456.0</td>\n",
       "      <td>2020</td>\n",
       "    </tr>\n",
       "    <tr>\n",
       "      <th>17</th>\n",
       "      <td>[NSW] Pokemon Mystery Dungeon: Rescue Team DX</td>\n",
       "      <td>NSW</td>\n",
       "      <td>279162.0</td>\n",
       "      <td>2020</td>\n",
       "    </tr>\n",
       "    <tr>\n",
       "      <th>34</th>\n",
       "      <td>[NSW] Pokemon Sword/Shield + Expansion Pass</td>\n",
       "      <td>NSW</td>\n",
       "      <td>148298.0</td>\n",
       "      <td>2020</td>\n",
       "    </tr>\n",
       "    <tr>\n",
       "      <th>53</th>\n",
       "      <td>[NSW] Pokemon: Let’s Go, Pikachu / Eevee</td>\n",
       "      <td>NSW</td>\n",
       "      <td>82046.0</td>\n",
       "      <td>2020</td>\n",
       "    </tr>\n",
       "    <tr>\n",
       "      <th>0</th>\n",
       "      <td>Pokemon Sword &amp; Shield</td>\n",
       "      <td>NSW</td>\n",
       "      <td>2988134.0</td>\n",
       "      <td>2019</td>\n",
       "    </tr>\n",
       "  </tbody>\n",
       "</table>\n",
       "</div>"
      ],
      "text/plain": [
       "                                              games console  units_sold  year\n",
       "1        Pokemon Brilliant Diamond / Shining Pearl      NSW   2313115.0  2021\n",
       "10                          Pokemon Sword / Shield      NSW    381848.0  2021\n",
       "13                                New Pokemon Snap      NSW    312931.0  2021\n",
       "72         Pokemon Sword / Shield + Expansion Pass      NSW     54178.0  2021\n",
       "4                       [NSW] Pokemon Sword/Shield      NSW    892456.0  2020\n",
       "17   [NSW] Pokemon Mystery Dungeon: Rescue Team DX      NSW    279162.0  2020\n",
       "34     [NSW] Pokemon Sword/Shield + Expansion Pass      NSW    148298.0  2020\n",
       "53        [NSW] Pokemon: Let’s Go, Pikachu / Eevee      NSW     82046.0  2020\n",
       "0                           Pokemon Sword & Shield      NSW   2988134.0  2019"
      ]
     },
     "execution_count": 49,
     "metadata": {},
     "output_type": "execute_result"
    }
   ],
   "source": [
    "df_full_list[df_full_list.games.str.contains(r'\\bpokemon', case=False, regex=True)]"
   ]
  },
  {
   "cell_type": "markdown",
   "id": "8584bd85",
   "metadata": {},
   "source": [
    "## Super Mario?"
   ]
  },
  {
   "cell_type": "code",
   "execution_count": 50,
   "id": "de30faaa",
   "metadata": {},
   "outputs": [
    {
     "data": {
      "text/plain": [
       "year\n",
       "2019    3084642.0\n",
       "2020    2708614.0\n",
       "2021    3592691.0\n",
       "Name: units_sold, dtype: float64"
      ]
     },
     "execution_count": 50,
     "metadata": {},
     "output_type": "execute_result"
    }
   ],
   "source": [
    "df_full_list[df_full_list.games.str.contains(r'\\bmario', case=False, regex=True)].groupby('year').units_sold.sum()"
   ]
  },
  {
   "cell_type": "code",
   "execution_count": 51,
   "id": "20cf5b92",
   "metadata": {},
   "outputs": [
    {
     "data": {
      "text/html": [
       "<div>\n",
       "<style scoped>\n",
       "    .dataframe tbody tr th:only-of-type {\n",
       "        vertical-align: middle;\n",
       "    }\n",
       "\n",
       "    .dataframe tbody tr th {\n",
       "        vertical-align: top;\n",
       "    }\n",
       "\n",
       "    .dataframe thead th {\n",
       "        text-align: right;\n",
       "    }\n",
       "</style>\n",
       "<table border=\"1\" class=\"dataframe\">\n",
       "  <thead>\n",
       "    <tr style=\"text-align: right;\">\n",
       "      <th></th>\n",
       "      <th>games</th>\n",
       "      <th>console</th>\n",
       "      <th>units_sold</th>\n",
       "      <th>year</th>\n",
       "    </tr>\n",
       "  </thead>\n",
       "  <tbody>\n",
       "    <tr>\n",
       "      <th>3</th>\n",
       "      <td>Super Mario 3D World + Bowser’s Fury</td>\n",
       "      <td>NSW</td>\n",
       "      <td>971418.0</td>\n",
       "      <td>2021</td>\n",
       "    </tr>\n",
       "    <tr>\n",
       "      <th>5</th>\n",
       "      <td>Mario Kart 8 Deluxe</td>\n",
       "      <td>NSW</td>\n",
       "      <td>815174.0</td>\n",
       "      <td>2021</td>\n",
       "    </tr>\n",
       "    <tr>\n",
       "      <th>8</th>\n",
       "      <td>Mario Party Superstars</td>\n",
       "      <td>NSW</td>\n",
       "      <td>628538.0</td>\n",
       "      <td>2021</td>\n",
       "    </tr>\n",
       "    <tr>\n",
       "      <th>14</th>\n",
       "      <td>Super Mario Party</td>\n",
       "      <td>NSW</td>\n",
       "      <td>306590.0</td>\n",
       "      <td>2021</td>\n",
       "    </tr>\n",
       "    <tr>\n",
       "      <th>24</th>\n",
       "      <td>Mario Golf: Super Rush</td>\n",
       "      <td>NSW</td>\n",
       "      <td>198426.0</td>\n",
       "      <td>2021</td>\n",
       "    </tr>\n",
       "    <tr>\n",
       "      <th>32</th>\n",
       "      <td>New Super Mario Bros. U Deluxe</td>\n",
       "      <td>NSW</td>\n",
       "      <td>145871.0</td>\n",
       "      <td>2021</td>\n",
       "    </tr>\n",
       "    <tr>\n",
       "      <th>37</th>\n",
       "      <td>Super Mario Maker 2</td>\n",
       "      <td>NSW</td>\n",
       "      <td>139980.0</td>\n",
       "      <td>2021</td>\n",
       "    </tr>\n",
       "    <tr>\n",
       "      <th>42</th>\n",
       "      <td>Super Mario Odyssey</td>\n",
       "      <td>NSW</td>\n",
       "      <td>125450.0</td>\n",
       "      <td>2021</td>\n",
       "    </tr>\n",
       "    <tr>\n",
       "      <th>43</th>\n",
       "      <td>Super Mario 3D All-Stars</td>\n",
       "      <td>NSW</td>\n",
       "      <td>119330.0</td>\n",
       "      <td>2021</td>\n",
       "    </tr>\n",
       "    <tr>\n",
       "      <th>70</th>\n",
       "      <td>Mario &amp; Sonic at the Olympic Games Tokyo 2020</td>\n",
       "      <td>NSW</td>\n",
       "      <td>55321.0</td>\n",
       "      <td>2021</td>\n",
       "    </tr>\n",
       "    <tr>\n",
       "      <th>80</th>\n",
       "      <td>Mario Kart Live: Home Circuit</td>\n",
       "      <td>NSW</td>\n",
       "      <td>44204.0</td>\n",
       "      <td>2021</td>\n",
       "    </tr>\n",
       "    <tr>\n",
       "      <th>83</th>\n",
       "      <td>Paper Mario: The Origami King</td>\n",
       "      <td>NSW</td>\n",
       "      <td>42389.0</td>\n",
       "      <td>2021</td>\n",
       "    </tr>\n",
       "    <tr>\n",
       "      <th>5</th>\n",
       "      <td>[NSW] Mario Kart 8 Deluxe</td>\n",
       "      <td>NSW</td>\n",
       "      <td>798174.0</td>\n",
       "      <td>2020</td>\n",
       "    </tr>\n",
       "    <tr>\n",
       "      <th>9</th>\n",
       "      <td>[NSW] Super Mario 3D All-Stars</td>\n",
       "      <td>NSW</td>\n",
       "      <td>492620.0</td>\n",
       "      <td>2020</td>\n",
       "    </tr>\n",
       "    <tr>\n",
       "      <th>10</th>\n",
       "      <td>[NSW] Super Mario Party</td>\n",
       "      <td>NSW</td>\n",
       "      <td>466086.0</td>\n",
       "      <td>2020</td>\n",
       "    </tr>\n",
       "    <tr>\n",
       "      <th>16</th>\n",
       "      <td>[NSW] Paper Mario: The Origami King</td>\n",
       "      <td>NSW</td>\n",
       "      <td>294697.0</td>\n",
       "      <td>2020</td>\n",
       "    </tr>\n",
       "    <tr>\n",
       "      <th>23</th>\n",
       "      <td>[NSW] Super Mario Maker 2</td>\n",
       "      <td>NSW</td>\n",
       "      <td>234377.0</td>\n",
       "      <td>2020</td>\n",
       "    </tr>\n",
       "    <tr>\n",
       "      <th>30</th>\n",
       "      <td>[NSW] Mario &amp; Sonic at the Olympic Games Toky...</td>\n",
       "      <td>NSW</td>\n",
       "      <td>167411.0</td>\n",
       "      <td>2020</td>\n",
       "    </tr>\n",
       "    <tr>\n",
       "      <th>40</th>\n",
       "      <td>[NSW] Super Mario Odyssey</td>\n",
       "      <td>NSW</td>\n",
       "      <td>128499.0</td>\n",
       "      <td>2020</td>\n",
       "    </tr>\n",
       "    <tr>\n",
       "      <th>42</th>\n",
       "      <td>[NSW] Mario Kart Live: Home Circuit</td>\n",
       "      <td>NSW</td>\n",
       "      <td>126750.0</td>\n",
       "      <td>2020</td>\n",
       "    </tr>\n",
       "    <tr>\n",
       "      <th>2</th>\n",
       "      <td>Super Mario Maker 2</td>\n",
       "      <td>NSW</td>\n",
       "      <td>800504.0</td>\n",
       "      <td>2019</td>\n",
       "    </tr>\n",
       "    <tr>\n",
       "      <th>4</th>\n",
       "      <td>New Super Mario Bros. U Deluxe</td>\n",
       "      <td>NSW</td>\n",
       "      <td>747589.0</td>\n",
       "      <td>2019</td>\n",
       "    </tr>\n",
       "    <tr>\n",
       "      <th>5</th>\n",
       "      <td>Mario Kart 8 Deluxe</td>\n",
       "      <td>NSW</td>\n",
       "      <td>628712.0</td>\n",
       "      <td>2019</td>\n",
       "    </tr>\n",
       "    <tr>\n",
       "      <th>8</th>\n",
       "      <td>Super Mario Party</td>\n",
       "      <td>NSW</td>\n",
       "      <td>498857.0</td>\n",
       "      <td>2019</td>\n",
       "    </tr>\n",
       "    <tr>\n",
       "      <th>27</th>\n",
       "      <td>Mario and Sonic at the Olympic Games Tokyo 2020</td>\n",
       "      <td>NSW</td>\n",
       "      <td>195128.0</td>\n",
       "      <td>2019</td>\n",
       "    </tr>\n",
       "    <tr>\n",
       "      <th>33</th>\n",
       "      <td>Super Mario Odyssey</td>\n",
       "      <td>NSW</td>\n",
       "      <td>147340.0</td>\n",
       "      <td>2019</td>\n",
       "    </tr>\n",
       "    <tr>\n",
       "      <th>62</th>\n",
       "      <td>Mario Tennis Aces</td>\n",
       "      <td>NSW</td>\n",
       "      <td>66512.0</td>\n",
       "      <td>2019</td>\n",
       "    </tr>\n",
       "  </tbody>\n",
       "</table>\n",
       "</div>"
      ],
      "text/plain": [
       "                                                games console  units_sold  \\\n",
       "3               Super Mario 3D World + Bowser’s Fury      NSW    971418.0   \n",
       "5                                Mario Kart 8 Deluxe      NSW    815174.0   \n",
       "8                             Mario Party Superstars      NSW    628538.0   \n",
       "14                                 Super Mario Party      NSW    306590.0   \n",
       "24                            Mario Golf: Super Rush      NSW    198426.0   \n",
       "32                    New Super Mario Bros. U Deluxe      NSW    145871.0   \n",
       "37                               Super Mario Maker 2      NSW    139980.0   \n",
       "42                               Super Mario Odyssey      NSW    125450.0   \n",
       "43                          Super Mario 3D All-Stars      NSW    119330.0   \n",
       "70     Mario & Sonic at the Olympic Games Tokyo 2020      NSW     55321.0   \n",
       "80                     Mario Kart Live: Home Circuit      NSW     44204.0   \n",
       "83                     Paper Mario: The Origami King      NSW     42389.0   \n",
       "5                          [NSW] Mario Kart 8 Deluxe      NSW    798174.0   \n",
       "9                     [NSW] Super Mario 3D All-Stars      NSW    492620.0   \n",
       "10                           [NSW] Super Mario Party      NSW    466086.0   \n",
       "16               [NSW] Paper Mario: The Origami King      NSW    294697.0   \n",
       "23                         [NSW] Super Mario Maker 2      NSW    234377.0   \n",
       "30   [NSW] Mario & Sonic at the Olympic Games Toky...     NSW    167411.0   \n",
       "40                         [NSW] Super Mario Odyssey      NSW    128499.0   \n",
       "42               [NSW] Mario Kart Live: Home Circuit      NSW    126750.0   \n",
       "2                                Super Mario Maker 2      NSW    800504.0   \n",
       "4                     New Super Mario Bros. U Deluxe      NSW    747589.0   \n",
       "5                                Mario Kart 8 Deluxe      NSW    628712.0   \n",
       "8                                  Super Mario Party      NSW    498857.0   \n",
       "27   Mario and Sonic at the Olympic Games Tokyo 2020      NSW    195128.0   \n",
       "33                               Super Mario Odyssey      NSW    147340.0   \n",
       "62                                 Mario Tennis Aces      NSW     66512.0   \n",
       "\n",
       "    year  \n",
       "3   2021  \n",
       "5   2021  \n",
       "8   2021  \n",
       "14  2021  \n",
       "24  2021  \n",
       "32  2021  \n",
       "37  2021  \n",
       "42  2021  \n",
       "43  2021  \n",
       "70  2021  \n",
       "80  2021  \n",
       "83  2021  \n",
       "5   2020  \n",
       "9   2020  \n",
       "10  2020  \n",
       "16  2020  \n",
       "23  2020  \n",
       "30  2020  \n",
       "40  2020  \n",
       "42  2020  \n",
       "2   2019  \n",
       "4   2019  \n",
       "5   2019  \n",
       "8   2019  \n",
       "27  2019  \n",
       "33  2019  \n",
       "62  2019  "
      ]
     },
     "execution_count": 51,
     "metadata": {},
     "output_type": "execute_result"
    }
   ],
   "source": [
    "df_full_list[df_full_list.games.str.contains(r'\\bmario', case=False, regex=True)]"
   ]
  },
  {
   "cell_type": "markdown",
   "id": "cada7754",
   "metadata": {},
   "source": [
    "## Resident Evil?"
   ]
  },
  {
   "cell_type": "code",
   "execution_count": 52,
   "id": "29e7f67a",
   "metadata": {},
   "outputs": [
    {
     "data": {
      "text/html": [
       "<div>\n",
       "<style scoped>\n",
       "    .dataframe tbody tr th:only-of-type {\n",
       "        vertical-align: middle;\n",
       "    }\n",
       "\n",
       "    .dataframe tbody tr th {\n",
       "        vertical-align: top;\n",
       "    }\n",
       "\n",
       "    .dataframe thead th {\n",
       "        text-align: right;\n",
       "    }\n",
       "</style>\n",
       "<table border=\"1\" class=\"dataframe\">\n",
       "  <thead>\n",
       "    <tr style=\"text-align: right;\">\n",
       "      <th></th>\n",
       "      <th>games</th>\n",
       "      <th>console</th>\n",
       "      <th>units_sold</th>\n",
       "      <th>year</th>\n",
       "    </tr>\n",
       "  </thead>\n",
       "  <tbody>\n",
       "    <tr>\n",
       "      <th>22</th>\n",
       "      <td>Resident Evil Village</td>\n",
       "      <td>PS4</td>\n",
       "      <td>206312.0</td>\n",
       "      <td>2021</td>\n",
       "    </tr>\n",
       "    <tr>\n",
       "      <th>60</th>\n",
       "      <td>Resident Evil Village</td>\n",
       "      <td>PS5</td>\n",
       "      <td>74644.0</td>\n",
       "      <td>2021</td>\n",
       "    </tr>\n",
       "    <tr>\n",
       "      <th>19</th>\n",
       "      <td>[PS4] Resident Evil 3</td>\n",
       "      <td>PS4</td>\n",
       "      <td>269187.0</td>\n",
       "      <td>2020</td>\n",
       "    </tr>\n",
       "    <tr>\n",
       "      <th>13</th>\n",
       "      <td>Resident Evil 2</td>\n",
       "      <td>PS4</td>\n",
       "      <td>403833.0</td>\n",
       "      <td>2019</td>\n",
       "    </tr>\n",
       "  </tbody>\n",
       "</table>\n",
       "</div>"
      ],
      "text/plain": [
       "                      games console  units_sold  year\n",
       "22   Resident Evil Village      PS4    206312.0  2021\n",
       "60   Resident Evil Village      PS5     74644.0  2021\n",
       "19   [PS4] Resident Evil 3      PS4    269187.0  2020\n",
       "13         Resident Evil 2      PS4    403833.0  2019"
      ]
     },
     "execution_count": 52,
     "metadata": {},
     "output_type": "execute_result"
    }
   ],
   "source": [
    "df_full_list[df_full_list.games.str.contains(r'\\bresident', case=False, regex=True)]"
   ]
  },
  {
   "cell_type": "code",
   "execution_count": 53,
   "id": "469040f7",
   "metadata": {},
   "outputs": [
    {
     "data": {
      "text/plain": [
       "year\n",
       "2019    403833.0\n",
       "2020    269187.0\n",
       "2021    280956.0\n",
       "Name: units_sold, dtype: float64"
      ]
     },
     "execution_count": 53,
     "metadata": {},
     "output_type": "execute_result"
    }
   ],
   "source": [
    "df_full_list[df_full_list.games.str.contains(r'\\bresident', case=False, regex=True)].groupby('year').units_sold.sum()"
   ]
  },
  {
   "cell_type": "markdown",
   "id": "e5409144",
   "metadata": {},
   "source": [
    "## Final Fantasy?"
   ]
  },
  {
   "cell_type": "code",
   "execution_count": 54,
   "id": "830a9aa7",
   "metadata": {},
   "outputs": [
    {
     "data": {
      "text/html": [
       "<div>\n",
       "<style scoped>\n",
       "    .dataframe tbody tr th:only-of-type {\n",
       "        vertical-align: middle;\n",
       "    }\n",
       "\n",
       "    .dataframe tbody tr th {\n",
       "        vertical-align: top;\n",
       "    }\n",
       "\n",
       "    .dataframe thead th {\n",
       "        text-align: right;\n",
       "    }\n",
       "</style>\n",
       "<table border=\"1\" class=\"dataframe\">\n",
       "  <thead>\n",
       "    <tr style=\"text-align: right;\">\n",
       "      <th></th>\n",
       "      <th>games</th>\n",
       "      <th>console</th>\n",
       "      <th>units_sold</th>\n",
       "      <th>year</th>\n",
       "    </tr>\n",
       "  </thead>\n",
       "  <tbody>\n",
       "    <tr>\n",
       "      <th>99</th>\n",
       "      <td>Final Fantasy VII Remake Intergrade</td>\n",
       "      <td>PS5</td>\n",
       "      <td>34012.0</td>\n",
       "      <td>2021</td>\n",
       "    </tr>\n",
       "    <tr>\n",
       "      <th>3</th>\n",
       "      <td>[PS4] Final Fantasy VII Remake</td>\n",
       "      <td>PS4</td>\n",
       "      <td>949379.0</td>\n",
       "      <td>2020</td>\n",
       "    </tr>\n",
       "    <tr>\n",
       "      <th>63</th>\n",
       "      <td>[NSW] Final Fantasy Crystal Chronicles Remast...</td>\n",
       "      <td>NSW</td>\n",
       "      <td>64687.0</td>\n",
       "      <td>2020</td>\n",
       "    </tr>\n",
       "    <tr>\n",
       "      <th>95</th>\n",
       "      <td>[PS4] Final Fantasy Crystal Chronicles Remast...</td>\n",
       "      <td>PS4</td>\n",
       "      <td>38200.0</td>\n",
       "      <td>2020</td>\n",
       "    </tr>\n",
       "    <tr>\n",
       "      <th>79</th>\n",
       "      <td>Final Fantasy X/X-2 HD Remaster</td>\n",
       "      <td>NSW</td>\n",
       "      <td>52670.0</td>\n",
       "      <td>2019</td>\n",
       "    </tr>\n",
       "    <tr>\n",
       "      <th>84</th>\n",
       "      <td>Final Fantasy XII The Zodiac Age</td>\n",
       "      <td>NSW</td>\n",
       "      <td>48348.0</td>\n",
       "      <td>2019</td>\n",
       "    </tr>\n",
       "  </tbody>\n",
       "</table>\n",
       "</div>"
      ],
      "text/plain": [
       "                                                games console  units_sold  \\\n",
       "99               Final Fantasy VII Remake Intergrade      PS5     34012.0   \n",
       "3                     [PS4] Final Fantasy VII Remake      PS4    949379.0   \n",
       "63   [NSW] Final Fantasy Crystal Chronicles Remast...     NSW     64687.0   \n",
       "95   [PS4] Final Fantasy Crystal Chronicles Remast...     PS4     38200.0   \n",
       "79                   Final Fantasy X/X-2 HD Remaster      NSW     52670.0   \n",
       "84                  Final Fantasy XII The Zodiac Age      NSW     48348.0   \n",
       "\n",
       "    year  \n",
       "99  2021  \n",
       "3   2020  \n",
       "63  2020  \n",
       "95  2020  \n",
       "79  2019  \n",
       "84  2019  "
      ]
     },
     "execution_count": 54,
     "metadata": {},
     "output_type": "execute_result"
    }
   ],
   "source": [
    "df_full_list[df_full_list.games.str.contains(r'\\bfinal fantasy', case=False, regex=True)]"
   ]
  },
  {
   "cell_type": "code",
   "execution_count": 55,
   "id": "fbdedebf",
   "metadata": {},
   "outputs": [
    {
     "data": {
      "text/plain": [
       "year\n",
       "2019     101018.0\n",
       "2020    1052266.0\n",
       "2021      34012.0\n",
       "Name: units_sold, dtype: float64"
      ]
     },
     "execution_count": 55,
     "metadata": {},
     "output_type": "execute_result"
    }
   ],
   "source": [
    "df_full_list[df_full_list.games.str.contains(r'\\bfinal fantasy', case=False, regex=True)].groupby('year').units_sold.sum()"
   ]
  },
  {
   "cell_type": "markdown",
   "id": "9bcdc96b",
   "metadata": {},
   "source": [
    "## Ring Fit Adventure\n",
    "\n",
    "Not a franchise, but a game on exercise. Look at that number in 2020. "
   ]
  },
  {
   "cell_type": "code",
   "execution_count": 56,
   "id": "5217fc09",
   "metadata": {},
   "outputs": [
    {
     "data": {
      "text/html": [
       "<div>\n",
       "<style scoped>\n",
       "    .dataframe tbody tr th:only-of-type {\n",
       "        vertical-align: middle;\n",
       "    }\n",
       "\n",
       "    .dataframe tbody tr th {\n",
       "        vertical-align: top;\n",
       "    }\n",
       "\n",
       "    .dataframe thead th {\n",
       "        text-align: right;\n",
       "    }\n",
       "</style>\n",
       "<table border=\"1\" class=\"dataframe\">\n",
       "  <thead>\n",
       "    <tr style=\"text-align: right;\">\n",
       "      <th></th>\n",
       "      <th>games</th>\n",
       "      <th>console</th>\n",
       "      <th>units_sold</th>\n",
       "      <th>year</th>\n",
       "    </tr>\n",
       "  </thead>\n",
       "  <tbody>\n",
       "    <tr>\n",
       "      <th>4</th>\n",
       "      <td>Ring Fit Adventure</td>\n",
       "      <td>NSW</td>\n",
       "      <td>904685.0</td>\n",
       "      <td>2021</td>\n",
       "    </tr>\n",
       "    <tr>\n",
       "      <th>1</th>\n",
       "      <td>[NSW] Ring Fit Adventure</td>\n",
       "      <td>NSW</td>\n",
       "      <td>1591366.0</td>\n",
       "      <td>2020</td>\n",
       "    </tr>\n",
       "    <tr>\n",
       "      <th>9</th>\n",
       "      <td>Ring Fit Adventure</td>\n",
       "      <td>NSW</td>\n",
       "      <td>495639.0</td>\n",
       "      <td>2019</td>\n",
       "    </tr>\n",
       "  </tbody>\n",
       "</table>\n",
       "</div>"
      ],
      "text/plain": [
       "                        games console  units_sold  year\n",
       "4         Ring Fit Adventure      NSW    904685.0  2021\n",
       "1   [NSW] Ring Fit Adventure      NSW   1591366.0  2020\n",
       "9         Ring Fit Adventure      NSW    495639.0  2019"
      ]
     },
     "execution_count": 56,
     "metadata": {},
     "output_type": "execute_result"
    }
   ],
   "source": [
    "df_full_list[df_full_list.games.str.contains(r'\\bring fit', case=False, regex=True)]"
   ]
  },
  {
   "cell_type": "code",
   "execution_count": 57,
   "id": "596d62cd",
   "metadata": {},
   "outputs": [
    {
     "data": {
      "text/plain": [
       "year\n",
       "2019         NaN\n",
       "2020    2.210736\n",
       "2021   -0.431504\n",
       "Name: units_sold, dtype: float64"
      ]
     },
     "execution_count": 57,
     "metadata": {},
     "output_type": "execute_result"
    }
   ],
   "source": [
    "df_full_list[df_full_list.games.str.contains(r'\\bring fit', case=False, regex=True)].groupby('year').units_sold.sum().pct_change()"
   ]
  },
  {
   "cell_type": "markdown",
   "id": "28fd96f3",
   "metadata": {},
   "source": [
    "**Interpretation:** Units sold spiked by more than three fold in 2020, pandemic year.\n",
    "\n",
    "That allowed the game to rise in rankings to 2nd spot from 10th the previous year."
   ]
  },
  {
   "cell_type": "markdown",
   "id": "fb1d24e1",
   "metadata": {},
   "source": [
    "# End"
   ]
  }
 ],
 "metadata": {
  "kernelspec": {
   "display_name": "Python 3 (ipykernel)",
   "language": "python",
   "name": "python3"
  },
  "language_info": {
   "codemirror_mode": {
    "name": "ipython",
    "version": 3
   },
   "file_extension": ".py",
   "mimetype": "text/x-python",
   "name": "python",
   "nbconvert_exporter": "python",
   "pygments_lexer": "ipython3",
   "version": "3.10.0"
  }
 },
 "nbformat": 4,
 "nbformat_minor": 5
}
